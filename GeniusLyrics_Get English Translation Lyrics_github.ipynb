{
 "cells": [
  {
   "cell_type": "code",
   "execution_count": null,
   "id": "eec7ace7",
   "metadata": {},
   "outputs": [],
   "source": [
    "#######################################\n",
    "############ DOCUMENTATION ############\n",
    "#######################################\n",
    "# How to Get started with Genius API: https://towardsdatascience.com/song-lyrics-genius-api-dcc2819c29\n",
    "# Genius API documentation: https://docs.genius.com/#referents-h2\n",
    "# Official lyricsgenius documentation: https://lyricsgenius.readthedocs.io/en/master/index.html\n",
    "\n",
    "#######################################\n",
    "############ PROJECT README ###########\n",
    "#######################################\n",
    "# The following code is used to obtain English Translated lyrics of non-english songs\n",
    "# Pre-Requisites: A list of the 'English Translated' Album titles\n",
    "# These can be found on genius.com (e.g. https://genius.com/albums/Genius-english-translations/Bts-love-yourself-her-english-translation)\n",
    "\n",
    "# Note: I didn't find an automated way to filter artist songs on keywords. It did not seem that the\n",
    "#     English translated songs were returned with genius.search_artist"
   ]
  },
  {
   "cell_type": "code",
   "execution_count": 1,
   "id": "1931c18f",
   "metadata": {
    "scrolled": false
   },
   "outputs": [
    {
     "name": "stdout",
     "output_type": "stream",
     "text": [
      "Collecting lyricsgenius\n",
      "  Downloading lyricsgenius-3.0.1-py3-none-any.whl (59 kB)\n",
      "\u001b[2K     \u001b[90m━━━━━━━━━━━━━━━━━━━━━━━━━━━━━━━━━━━━━━━\u001b[0m \u001b[32m59.4/59.4 kB\u001b[0m \u001b[31m856.1 kB/s\u001b[0m eta \u001b[36m0:00:00\u001b[0m \u001b[36m0:00:01\u001b[0m\n",
      "\u001b[?25hRequirement already satisfied: beautifulsoup4>=4.6.0 in /Library/Frameworks/Python.framework/Versions/3.10/lib/python3.10/site-packages (from lyricsgenius) (4.11.1)\n",
      "Requirement already satisfied: requests>=2.20.0 in /Library/Frameworks/Python.framework/Versions/3.10/lib/python3.10/site-packages (from lyricsgenius) (2.28.0)\n",
      "Requirement already satisfied: soupsieve>1.2 in /Library/Frameworks/Python.framework/Versions/3.10/lib/python3.10/site-packages (from beautifulsoup4>=4.6.0->lyricsgenius) (2.3.2.post1)\n",
      "Requirement already satisfied: certifi>=2017.4.17 in /Library/Frameworks/Python.framework/Versions/3.10/lib/python3.10/site-packages (from requests>=2.20.0->lyricsgenius) (2022.6.15)\n",
      "Requirement already satisfied: charset-normalizer~=2.0.0 in /Library/Frameworks/Python.framework/Versions/3.10/lib/python3.10/site-packages (from requests>=2.20.0->lyricsgenius) (2.0.12)\n",
      "Requirement already satisfied: urllib3<1.27,>=1.21.1 in /Library/Frameworks/Python.framework/Versions/3.10/lib/python3.10/site-packages (from requests>=2.20.0->lyricsgenius) (1.26.9)\n",
      "Requirement already satisfied: idna<4,>=2.5 in /Library/Frameworks/Python.framework/Versions/3.10/lib/python3.10/site-packages (from requests>=2.20.0->lyricsgenius) (3.3)\n",
      "Installing collected packages: lyricsgenius\n",
      "Successfully installed lyricsgenius-3.0.1\n"
     ]
    }
   ],
   "source": [
    "# install lyricsgenius\n",
    "!pip install lyricsgenius"
   ]
  },
  {
   "cell_type": "code",
   "execution_count": 16,
   "id": "10c330fe",
   "metadata": {},
   "outputs": [],
   "source": [
    "import lyricsgenius as lg\n",
    "genius = lg.Genius('your_Client_Access_Token_Goes_Here',verbose=False, skip_non_songs=False, remove_section_headers=False)"
   ]
  },
  {
   "cell_type": "code",
   "execution_count": 166,
   "id": "3219f940",
   "metadata": {
    "scrolled": true
   },
   "outputs": [],
   "source": [
    "# Retrieve a list of songs associated with a specific artist; can also sort by 'popularity'\n",
    "song_search=(genius.search_artist(\"BTS\", max_songs=100, sort='title')).songs"
   ]
  },
  {
   "cell_type": "code",
   "execution_count": 167,
   "id": "470652c0",
   "metadata": {},
   "outputs": [],
   "source": [
    "# Iterate through object to retrieve song names found\n",
    "song_name_list=[song.title for song in song_search]"
   ]
  },
  {
   "cell_type": "code",
   "execution_count": 168,
   "id": "16552367",
   "metadata": {},
   "outputs": [
    {
     "data": {
      "text/plain": [
       "['00:00 (Zero O’Clock)',\n",
       " '134340',\n",
       " '2018 United Nations General Assembly Speech',\n",
       " '21세기 소녀 (21st Century Girl)',\n",
       " '2학년 (2nd Grade / Second Grade / So 4 More)']"
      ]
     },
     "execution_count": 168,
     "metadata": {},
     "output_type": "execute_result"
    }
   ],
   "source": [
    "# List of song titles that you can now filter or search for specific keywords\n",
    "song_name_list[0:5]"
   ]
  },
  {
   "cell_type": "code",
   "execution_count": 137,
   "id": "b670370c",
   "metadata": {},
   "outputs": [
    {
     "data": {
      "text/plain": [
       "312"
      ]
     },
     "execution_count": 137,
     "metadata": {},
     "output_type": "execute_result"
    }
   ],
   "source": [
    "len(song_name_list)"
   ]
  },
  {
   "cell_type": "code",
   "execution_count": 170,
   "id": "f2b76c82",
   "metadata": {},
   "outputs": [],
   "source": [
    "# Search for a keyword in all the list elements\n",
    "# Tried to filter song list to only the English Translated songs but no song titles with English were returned\n",
    "import re\n",
    "english_songs=[x for x in song_name_list if re.findall(\"English\",x)]"
   ]
  },
  {
   "cell_type": "code",
   "execution_count": 171,
   "id": "b8f16324",
   "metadata": {},
   "outputs": [
    {
     "data": {
      "text/plain": [
       "[]"
      ]
     },
     "execution_count": 171,
     "metadata": {},
     "output_type": "execute_result"
    }
   ],
   "source": [
    "english_songs[0:5]"
   ]
  },
  {
   "cell_type": "code",
   "execution_count": 169,
   "id": "8e35d2f0",
   "metadata": {},
   "outputs": [],
   "source": [
    "# Testing to see if English Translated songs exist and it looks like they do\n",
    "english_songs=genius.search_song(\"BTS - Go (Go Go) (English Translation)\", \"BTS\")"
   ]
  },
  {
   "cell_type": "code",
   "execution_count": 141,
   "id": "7d9c8c24",
   "metadata": {},
   "outputs": [
    {
     "data": {
      "text/plain": [
       "'BTS - 고민보다 Go (Go Go) (English Translation)'"
      ]
     },
     "execution_count": 141,
     "metadata": {},
     "output_type": "execute_result"
    }
   ],
   "source": [
    "english_songs.title"
   ]
  },
  {
   "cell_type": "code",
   "execution_count": 165,
   "id": "3062ef61",
   "metadata": {},
   "outputs": [
    {
     "data": {
      "text/plain": [
       "'BTS- Love Yourself 承 ‘Her’ (English Translation)'"
      ]
     },
     "execution_count": 165,
     "metadata": {},
     "output_type": "execute_result"
    }
   ],
   "source": [
    "# Final approach: search for the English Translated album which will retrieve all the English translated songs\n",
    "# Good approach for a finite and specific list of albums\n",
    "# Get album names from manual search on genius.com\n",
    "\n",
    "album = genius.search_album(\"BTS- Love Yourself ‘Her’ (English Translation)\", \"BTS\")\n",
    "print(album.name)"
   ]
  },
  {
   "cell_type": "code",
   "execution_count": 173,
   "id": "249e466b",
   "metadata": {},
   "outputs": [
    {
     "data": {
      "text/plain": [
       "['BTS - Intro: Serendipity (세렌디피티) (English Translation)',\n",
       " 'BTS - DNA (English Translation)',\n",
       " 'BTS - Best Of Me (English Translation)',\n",
       " 'BTS - 보조개 (\\u200bDimple) (English Translation)',\n",
       " 'BTS - Pied Piper (English Translation)',\n",
       " 'BTS - MIC Drop (English Translation)',\n",
       " 'BTS - 고민보다 Go (Go Go) (English Translation)',\n",
       " 'BTS - Outro: Her (English Translation)',\n",
       " 'BTS - 바다 (Sea) (English Translation)']"
      ]
     },
     "execution_count": 173,
     "metadata": {},
     "output_type": "execute_result"
    }
   ],
   "source": [
    "# Retreieve song titles on the album to confirm they are English Translated\n",
    "album_tracks=album.tracks\n",
    "[track.song.title for track in album_tracks]"
   ]
  },
  {
   "cell_type": "code",
   "execution_count": 190,
   "id": "59b1cf75",
   "metadata": {},
   "outputs": [
    {
     "name": "stdout",
     "output_type": "stream",
     "text": [
      "Lyrics_BTSLoveYourself承HerEnglishTranslation.json already exists. Overwrite?\n",
      "(y/n): n\n",
      "Skipping file save.\n",
      "\n"
     ]
    }
   ],
   "source": [
    "# Save lyrics of all tracks on album into JSON file (will save to working directory)\n",
    "album.save_lyrics()"
   ]
  },
  {
   "cell_type": "code",
   "execution_count": 184,
   "id": "1fae3cf2",
   "metadata": {},
   "outputs": [
    {
     "data": {
      "text/plain": [
       "{'_type': 'album',\n",
       " 'api_path': '/albums/443067',\n",
       " 'cover_art_thumbnail_url': 'https://images.genius.com/9c2a9724c862553826e624d4782085c6.300x300x1.png',\n",
       " 'cover_art_url': 'https://images.genius.com/9c2a9724c862553826e624d4782085c6.1000x1000x1.png',\n",
       " 'full_title': 'BTS- Love Yourself 承 ‘Her’ (English Translation) by Genius English Translations',\n",
       " 'id': 443067,\n",
       " 'name': 'BTS- Love Yourself 承 ‘Her’ (English Translation)',\n",
       " 'name_with_artist': 'BTS- Love Yourself 承 ‘Her’ (English Translation) (artist: Genius English Translations)',\n",
       " 'release_date_components': {'year': 2017, 'month': 9, 'day': 18},\n",
       " 'url': 'https://genius.com/albums/Genius-english-translations/Bts-love-yourself-her-english-translation',\n",
       " 'artist': {'_type': 'artist',\n",
       "  'api_path': '/artists/196943',\n",
       "  'header_image_url': 'https://images.genius.com/38f8fc30844014c124b4e4a28a39ec40.39x35x1.png',\n",
       "  'id': 196943,\n",
       "  'image_url': 'https://images.genius.com/03131b2068adac6028ecefed2c657d97.222x222x1.png',\n",
       "  'index_character': 'g',\n",
       "  'is_meme_verified': False,\n",
       "  'is_verified': False,\n",
       "  'name': 'Genius English Translations',\n",
       "  'slug': 'Genius-english-translations',\n",
       "  'url': 'https://genius.com/artists/Genius-english-translations'},\n",
       " 'tracks': [{'number': 1,\n",
       "   'song': {'_type': 'song',\n",
       "    'annotation_count': 8,\n",
       "    'api_path': '/songs/3821249',\n",
       "    'artist_names': 'Genius English Translations',\n",
       "    'full_title': 'BTS - Intro: Serendipity (세렌디피티) (English Translation) by\\xa0Genius\\xa0English Translations',\n",
       "    'header_image_thumbnail_url': 'https://images.genius.com/9c2a9724c862553826e624d4782085c6.300x300x1.png',\n",
       "    'header_image_url': 'https://images.genius.com/9c2a9724c862553826e624d4782085c6.1000x1000x1.png',\n",
       "    'id': 3821249,\n",
       "    'instrumental': False,\n",
       "    'lyrics_owner_id': 4650044,\n",
       "    'lyrics_state': 'complete',\n",
       "    'lyrics_updated_at': 1641788645,\n",
       "    'path': '/Genius-english-translations-bts-intro-serendipity-english-translation-lyrics',\n",
       "    'pyongs_count': 24,\n",
       "    'relationships_index_url': 'https://genius.com/Genius-english-translations-bts-intro-serendipity-english-translation-sample',\n",
       "    'release_date_components': {'year': 2017, 'month': 9, 'day': 4},\n",
       "    'release_date_for_display': 'September 4, 2017',\n",
       "    'song_art_image_thumbnail_url': 'https://images.genius.com/9c2a9724c862553826e624d4782085c6.300x300x1.png',\n",
       "    'song_art_image_url': 'https://images.genius.com/9c2a9724c862553826e624d4782085c6.1000x1000x1.png',\n",
       "    'stats': {'unreviewed_annotations': 3, 'hot': False, 'pageviews': 905521},\n",
       "    'title': 'BTS - Intro: Serendipity (세렌디피티) (English Translation)',\n",
       "    'title_with_featured': 'BTS - Intro: Serendipity (세렌디피티) (English Translation)',\n",
       "    'updated_by_human_at': 1641788645,\n",
       "    'url': 'https://genius.com/Genius-english-translations-bts-intro-serendipity-english-translation-lyrics',\n",
       "    'featured_artists': [],\n",
       "    'primary_artist': {'_type': 'artist',\n",
       "     'api_path': '/artists/196943',\n",
       "     'header_image_url': 'https://images.genius.com/38f8fc30844014c124b4e4a28a39ec40.39x35x1.png',\n",
       "     'id': 196943,\n",
       "     'image_url': 'https://images.genius.com/03131b2068adac6028ecefed2c657d97.222x222x1.png',\n",
       "     'index_character': 'g',\n",
       "     'is_meme_verified': False,\n",
       "     'is_verified': False,\n",
       "     'name': 'Genius English Translations',\n",
       "     'slug': 'Genius-english-translations',\n",
       "     'url': 'https://genius.com/artists/Genius-english-translations'},\n",
       "    'artist': 'Genius English Translations',\n",
       "    'lyrics': \"BTS - Intro: Serendipity (세렌디피티) (English Translation) Lyrics[Verse 1: Jimin]\\nAll this is no coincidence\\nJust, just, by my feeling\\nThe whole world is different from yesterday\\nJust, just, with your joy\\nWhen you called me\\nI became your flower\\nAs if we were waiting\\nWe bloom until we ache\\nMaybe it's the providence of the universe\\nIt just had to be that\\nYou know, I know\\nYou are me, I am you\\n[Chorus: Jimin]\\nAs much as my heart flutters, I'm worried\\nThe destiny is jealous of us\\nJust like you I'm so scared\\nWhen you see me, when you touch me\\nThe universe has moved for us\\nWithout missing a single thing\\nOur happiness was meant to be\\n'Cause you love me, and I love you\\n\\n[Verse 2: Jimin]\\nYou're my penicillin, saving me, saving me\\nMy angel, my world\\nI'm your Calico cat, here to see you\\nLove me now, touch me now\\n\\n[Refrain: Jimin]\\nJust let me love you (let me love, let me love you)\\nJust let me love you (let me love, let me love you)\\nSince the creation of the universe\\nEverything was destined\\nJust let me love you (let me love, let me love you)\\nJust let me love you (let me love, let me love you)\\n\\n[Outro: Jimin]\\nLet me love, let me love you\\nLet me love, let me love youRelated Songs24Embed\"}},\n",
       "  {'number': 2,\n",
       "   'song': {'_type': 'song',\n",
       "    'annotation_count': 4,\n",
       "    'api_path': '/songs/3804151',\n",
       "    'artist_names': 'Genius English Translations',\n",
       "    'full_title': 'BTS - DNA (English Translation) by\\xa0Genius\\xa0English Translations',\n",
       "    'header_image_thumbnail_url': 'https://images.genius.com/defe85d4b2185eb430b34eaa54010863.300x300x1.jpg',\n",
       "    'header_image_url': 'https://images.genius.com/defe85d4b2185eb430b34eaa54010863.1000x1000x1.jpg',\n",
       "    'id': 3804151,\n",
       "    'instrumental': False,\n",
       "    'lyrics_owner_id': 104344,\n",
       "    'lyrics_state': 'complete',\n",
       "    'lyrics_updated_at': 1650867365,\n",
       "    'path': '/Genius-english-translations-bts-dna-english-translation-lyrics',\n",
       "    'pyongs_count': 4,\n",
       "    'relationships_index_url': 'https://genius.com/Genius-english-translations-bts-dna-english-translation-sample',\n",
       "    'release_date_components': {'year': 2017, 'month': 9, 'day': 18},\n",
       "    'release_date_for_display': 'September 18, 2017',\n",
       "    'song_art_image_thumbnail_url': 'https://images.genius.com/defe85d4b2185eb430b34eaa54010863.300x300x1.jpg',\n",
       "    'song_art_image_url': 'https://images.genius.com/defe85d4b2185eb430b34eaa54010863.1000x1000x1.jpg',\n",
       "    'stats': {'unreviewed_annotations': 1, 'hot': False, 'pageviews': 549975},\n",
       "    'title': 'BTS - DNA (English Translation)',\n",
       "    'title_with_featured': 'BTS - DNA (English Translation)',\n",
       "    'updated_by_human_at': 1650857229,\n",
       "    'url': 'https://genius.com/Genius-english-translations-bts-dna-english-translation-lyrics',\n",
       "    'featured_artists': [],\n",
       "    'primary_artist': {'_type': 'artist',\n",
       "     'api_path': '/artists/196943',\n",
       "     'header_image_url': 'https://images.genius.com/38f8fc30844014c124b4e4a28a39ec40.39x35x1.png',\n",
       "     'id': 196943,\n",
       "     'image_url': 'https://images.genius.com/03131b2068adac6028ecefed2c657d97.222x222x1.png',\n",
       "     'index_character': 'g',\n",
       "     'is_meme_verified': False,\n",
       "     'is_verified': False,\n",
       "     'name': 'Genius English Translations',\n",
       "     'slug': 'Genius-english-translations',\n",
       "     'url': 'https://genius.com/artists/Genius-english-translations'},\n",
       "    'artist': 'Genius English Translations',\n",
       "    'lyrics': \"BTS - DNA (English Translation) Lyrics[Verse 1: V, j-hope, RM]\\nAt first sight, I could recognize you (Hmm-mm)\\nAs if we were calling for each other (Ooh, ooh-ooh-ooh-ooh)\\nThe DNA in my blood vessels tell me (Hmm-mm)\\nThat it's you I was looking all over for (Ooh, ooh-ooh-ooh-ooh)\\nOur meeting is like a mathematical formula\\nCommandments of religion, providence of the universe\\nThe evidence of destiny given to me\\nYou're the source of my dream, take it, take it\\nMy hand reaching out to you is my chosen fate\\n[Chorus: Jung Kook, V]\\nDon't worry, love\\nNone of this is a coincidence\\nWe're totally different, baby\\nBecause we're the two who found our destiny\\n\\n[Post-Chorus: Jimin, Jung Kook]\\nFrom the day of the universe's creation and beyond (beyond)\\nThrough the infinite centuries and beyond (beyond, beyond, yah)\\nIn the previous life (In the previous life)\\nMaybe the next too (Maybe the next too)\\nWe're eternally together\\n\\n[Drop: Jung Kook]\\n(DNA)\\nNone of this is a coincidence\\n(DNA)\\nBecause we're the two who found our destiny\\n(DNA)\\n\\n[Verse 2: SUGA, RM, Jung Kook]\\nI want it, this love (This love), I-I want it, real love (Real love)\\nI only focus on you, you steer me a little harder\\nThe DNA (DNA) of the genesis wants you\\nThis is inevitable, I love us (Love us)\\nWe are the only true lovers (Lovers)\\nEvery time I see her, I freak out\\nSurprisingly, I keep gasping and it's weird, maybe\\nThis is the emotion they call love (Oh, yeah)\\nBecause from the very beginning, my heart runs to you\\n[Chorus: Jin]\\nDon't worry, love\\nNone of this is a coincidence\\nWe're totally different, baby\\nBecause we're the two who found our destiny\\n\\n[Post-Chorus: Jung Kook, Jimin]\\nFrom the day of the universe's creation and beyond (beyond)\\nThrough the infinite centuries and beyond (beyond, beyond, yah)\\nIn the previous life (In the previous life)\\nMaybe the next too (Maybe the next too)\\nWe're eternally together\\n\\n[Drop: Jung Kook]\\n(DNA)\\nNone of this is a coincidence\\n(DNA)\\nBecause we're the two who found our destiny\\n(DNA)\\n\\n[Bridge: V, Jin, Jung Kook, Jimin]\\nDon't look back\\nBecause we're the two who found our destiny\\nDon't regret it, baby\\nBecause we're\\nForever, forever, forever\\nForever, (forever), we are together\\n[Chorus: Jung Kook, Jimin]\\nDon't worry, love (Oh-oh-oh)\\nNone of this is a coincidence\\nWe're totally different, baby\\nBecause we're the two who found our destiny\\n\\n[Outro: j-hope, Jung Kook]\\nLa-la-la-la-la, la-la-la-la-la\\nBecause it's not a coincidence, DNA\\nLa-la-la-la-la, la-la-la-la-la\\nBecause it's not a coincidence, DNA4Embed\"}},\n",
       "  {'number': 3,\n",
       "   'song': {'_type': 'song',\n",
       "    'annotation_count': 1,\n",
       "    'api_path': '/songs/3821250',\n",
       "    'artist_names': 'Genius English Translations',\n",
       "    'full_title': 'BTS - Best Of Me (English Translation) by\\xa0Genius\\xa0English Translations',\n",
       "    'header_image_thumbnail_url': 'https://images.genius.com/9c2a9724c862553826e624d4782085c6.300x300x1.png',\n",
       "    'header_image_url': 'https://images.genius.com/9c2a9724c862553826e624d4782085c6.1000x1000x1.png',\n",
       "    'id': 3821250,\n",
       "    'instrumental': False,\n",
       "    'lyrics_owner_id': 4650044,\n",
       "    'lyrics_state': 'complete',\n",
       "    'lyrics_updated_at': 1654751692,\n",
       "    'path': '/Genius-english-translations-bts-best-of-me-english-translation-lyrics',\n",
       "    'pyongs_count': 1,\n",
       "    'relationships_index_url': 'https://genius.com/Genius-english-translations-bts-best-of-me-english-translation-sample',\n",
       "    'release_date_components': {'year': 2017, 'month': 9, 'day': 18},\n",
       "    'release_date_for_display': 'September 18, 2017',\n",
       "    'song_art_image_thumbnail_url': 'https://images.genius.com/9c2a9724c862553826e624d4782085c6.300x300x1.png',\n",
       "    'song_art_image_url': 'https://images.genius.com/9c2a9724c862553826e624d4782085c6.1000x1000x1.png',\n",
       "    'stats': {'unreviewed_annotations': 1, 'hot': False, 'pageviews': 370207},\n",
       "    'title': 'BTS - Best Of Me (English Translation)',\n",
       "    'title_with_featured': 'BTS - Best Of Me (English Translation)',\n",
       "    'updated_by_human_at': 1654751692,\n",
       "    'url': 'https://genius.com/Genius-english-translations-bts-best-of-me-english-translation-lyrics',\n",
       "    'featured_artists': [],\n",
       "    'primary_artist': {'_type': 'artist',\n",
       "     'api_path': '/artists/196943',\n",
       "     'header_image_url': 'https://images.genius.com/38f8fc30844014c124b4e4a28a39ec40.39x35x1.png',\n",
       "     'id': 196943,\n",
       "     'image_url': 'https://images.genius.com/03131b2068adac6028ecefed2c657d97.222x222x1.png',\n",
       "     'index_character': 'g',\n",
       "     'is_meme_verified': False,\n",
       "     'is_verified': False,\n",
       "     'name': 'Genius English Translations',\n",
       "     'slug': 'Genius-english-translations',\n",
       "     'url': 'https://genius.com/artists/Genius-english-translations'},\n",
       "    'artist': 'Genius English Translations',\n",
       "    'lyrics': \"BTS - Best Of Me (English Translation) Lyrics[Verse 1: Jimin, Jung Kook, Jin, V]\\nWhen you say that you love me\\nI walk above the clouds\\nTell me about eternity just one more time\\nWhen you say that you love me\\nAll I need is that one phrase\\nThat you'll never change, just one more time\\nYou're like the whole world to me\\nHug me harder and more painfully\\nThat something that we shared\\nAnd you can't make it nothing (Nothing)\\nI hope you don't forget that you're my\\n[Pre-Chorus: Jin, V]\\nDay by day\\nSummer, winter\\nEven if you don’t know\\n\\n[Chorus: Jung Kook, j-hope]\\nYou got the best of me\\nYou got the best of me\\nSo please just don't leave me\\nYou got the best of me\\n\\n[Verse 2: RM, SUGA]\\nEven though I haven't seen my limits\\nBut if it exists, It's probably you\\nI wanted to be the tender waves\\nBut why didn't I know you were the sea?\\nWhat do I do?\\nI speak with your language\\nAnd I breathe in your air\\nI'll be you, I'll be in your grasp\\nAs I kiss your sword\\nSo take my hand right now\\nI don't believe that I'm like this\\nThe words I've said to myself a million times\\nPlease don't leave me, ooh-woah\\nYou got the best of me, you got the best of me\\nIt's not important if it's a dream or reality\\nOnly the fact that you're by my side (Thanks)\\n[Pre-Chorus: V & Jin, Jin]\\nDay by day\\nSummer, winter\\nEven if you may be unaware\\n\\n[Chorus: Jimin, j-hope, Jung Kook]\\nYou got the best of me\\nYou got the best of me\\nSo please just don’t leave me\\nYou got the best of me\\n\\n[Post-Chorus: Jimin, Jung Kook, j-hope]\\nYou're my savior, you're my window\\nAll I need is you (You got the best of me)\\nI need you (So, please just don't leave me)\\nYou got the best of me\\n\\n[Bridge: Jimin, Jung Kook]\\nI used to rain\\nI used to snow\\nI stop all the misfortune\\nAnd I bring the heavens\\nDon't speak of it so lightly\\nThere's no me without you\\nYou're the best of me, the best of me, yeah\\n[Verse 3: SUGA, j-hope]\\nYou just give me the confidence within myself (Oh, yeah)\\nThat's all I wanted (Woo, woo)\\nThere may not be rules between us\\nBut the way to love exists\\nWho got the best of me? (Best of me) Who got the best of me?\\nNo one knows, but I know me\\nYou are my best master (Oh)\\n\\n[Chorus: V & Jimin, j-hope, Jung Kook & Jimin]\\nYou got the best of me\\nYou got the best of me\\nSo please just don’t leave me\\nYou got the best of me\\n\\n[Post-Chorus: Jung Kook, Jung Kook & Jimin, j-hope]\\nYou're my savior, you're my window\\nAll I need is you (You got the best of me)\\nI need you (So, please just don't leave me)\\nYou got the best of me\\n\\n[Outro: Jimin, Jung Kook]\\nWhen you say that you love me\\nI walk above the clouds\\nTell me of eternity, just one more time\\nWhen you say that you love me\\nAll I need is that one phrase\\nThat you'll never change, just one more time1Embed\"}},\n",
       "  {'number': 4,\n",
       "   'song': {'_type': 'song',\n",
       "    'annotation_count': 3,\n",
       "    'api_path': '/songs/3821251',\n",
       "    'artist_names': 'Genius English Translations',\n",
       "    'full_title': 'BTS - 보조개 (\\u200bDimple) (English Translation) by\\xa0Genius\\xa0English Translations',\n",
       "    'header_image_thumbnail_url': 'https://images.genius.com/9c2a9724c862553826e624d4782085c6.300x300x1.png',\n",
       "    'header_image_url': 'https://images.genius.com/9c2a9724c862553826e624d4782085c6.1000x1000x1.png',\n",
       "    'id': 3821251,\n",
       "    'instrumental': False,\n",
       "    'lyrics_owner_id': 4650044,\n",
       "    'lyrics_state': 'complete',\n",
       "    'lyrics_updated_at': 1641790875,\n",
       "    'path': '/Genius-english-translations-bts-dimple-english-translation-lyrics',\n",
       "    'pyongs_count': 9,\n",
       "    'relationships_index_url': 'https://genius.com/Genius-english-translations-bts-dimple-english-translation-sample',\n",
       "    'release_date_components': {'year': 2017, 'month': 9, 'day': 18},\n",
       "    'release_date_for_display': 'September 18, 2017',\n",
       "    'song_art_image_thumbnail_url': 'https://images.genius.com/9c2a9724c862553826e624d4782085c6.300x300x1.png',\n",
       "    'song_art_image_url': 'https://images.genius.com/9c2a9724c862553826e624d4782085c6.1000x1000x1.png',\n",
       "    'stats': {'unreviewed_annotations': 3, 'hot': False, 'pageviews': 439664},\n",
       "    'title': 'BTS - 보조개 (\\u200bDimple) (English Translation)',\n",
       "    'title_with_featured': 'BTS - 보조개 (\\u200bDimple) (English Translation)',\n",
       "    'updated_by_human_at': 1641790875,\n",
       "    'url': 'https://genius.com/Genius-english-translations-bts-dimple-english-translation-lyrics',\n",
       "    'featured_artists': [],\n",
       "    'primary_artist': {'_type': 'artist',\n",
       "     'api_path': '/artists/196943',\n",
       "     'header_image_url': 'https://images.genius.com/38f8fc30844014c124b4e4a28a39ec40.39x35x1.png',\n",
       "     'id': 196943,\n",
       "     'image_url': 'https://images.genius.com/03131b2068adac6028ecefed2c657d97.222x222x1.png',\n",
       "     'index_character': 'g',\n",
       "     'is_meme_verified': False,\n",
       "     'is_verified': False,\n",
       "     'name': 'Genius English Translations',\n",
       "     'slug': 'Genius-english-translations',\n",
       "     'url': 'https://genius.com/artists/Genius-english-translations'},\n",
       "    'artist': 'Genius English Translations',\n",
       "    'lyrics': 'BTS - 보조개 (\\u200bDimple) (English Translation) Lyrics[Verse 1: V, Jimin]\\nYou hide but only appear when you smile\\nWhere did you come from?\\nDon’t lie, I know you’re an angel\\nWhat are you?\\n\\n[Verse 2: Jungkook, Jin, Jimin]\\nBut you\\nThat smile is so cruel\\nCruel\\nI shouldn’t have seen that cheek\\nYou\\nWhat’s really dangerous\\nIs only in your possession\\n[Chorus: Jungkook, Jimin, Jin, V]\\nThat dimple is illegal ille~gal\\nNo, it’s dangerous, oh yes\\nSo I call you illegirl ille~girl\\nYour existence alone is a crime\\nWas it a mistake made by an angel?\\nOr a deep kiss?\\nThat dimple is illegal ille~gal\\nBut I want it anyway anyway anyway\\n\\n[Verse 2: Jin, Jungkook]\\nI don’t have it, only you have it\\nIs that why it’s so hard?\\nI wanna die fallen in you, I wanna die locked in you\\nYou are my lake\\n\\n[Pre-Chorus: Jungkook, V, Jimin, Jin]\\nCause you\\nWhen you smile, I get dizzy\\nTrue\\nPlease be careful\\nYou\\nWhat’s really dangerous\\nIs only in your possession\\n\\n[Chorus: V, Jungkook, Jin, Jimin]\\nThat dimple is illegal ille~gal\\nNo, it’s dangerous, oh yes\\nSo I call you illegirl ille~girl\\nYour existence alone is a crime\\nWas it a mistake made by an angel?\\nOr a deep kiss?\\nThat dimple is illegal ille~gal\\nBut I want it anyway anyway anyway\\n[Bridge: V, Jimin, Jin, Jungkook]\\nEvery time I see you, my heart gets dangerous\\nEvery time I see you, it gets more dangerous\\nOh baby no hey\\nOh baby no hey\\nYou’re too dangerous to live in this world\\n\\n[Chorus: Jungkook, Jimin, Jin, V]\\nThat dimple is illegal ille~gal\\nNo, it’s dangerous, oh yes\\nSo I call you illegirl ille~girl\\nYour existence alone is a crime\\nWas it a mistake made by an angel?\\nOr a deep kiss?\\nThat dimple is illegal ille~gal\\nBut I want it anyway anyway anyway\\n\\n[Outro: Jungkook]\\nIlle~gal\\nIlle~gal\\nBut I want it anyway anyway anyway9Embed'}},\n",
       "  {'number': 5,\n",
       "   'song': {'_type': 'song',\n",
       "    'annotation_count': 8,\n",
       "    'api_path': '/songs/3808586',\n",
       "    'artist_names': 'Genius English Translations',\n",
       "    'full_title': 'BTS - Pied Piper (English Translation) by\\xa0Genius\\xa0English Translations',\n",
       "    'header_image_thumbnail_url': 'https://images.genius.com/9c2a9724c862553826e624d4782085c6.300x300x1.png',\n",
       "    'header_image_url': 'https://images.genius.com/9c2a9724c862553826e624d4782085c6.1000x1000x1.png',\n",
       "    'id': 3808586,\n",
       "    'instrumental': False,\n",
       "    'lyrics_owner_id': 104344,\n",
       "    'lyrics_state': 'complete',\n",
       "    'lyrics_updated_at': 1656458003,\n",
       "    'path': '/Genius-english-translations-bts-pied-piper-english-translation-lyrics',\n",
       "    'pyongs_count': 26,\n",
       "    'relationships_index_url': 'https://genius.com/Genius-english-translations-bts-pied-piper-english-translation-sample',\n",
       "    'release_date_components': {'year': 2017, 'month': 9, 'day': 18},\n",
       "    'release_date_for_display': 'September 18, 2017',\n",
       "    'song_art_image_thumbnail_url': 'https://images.genius.com/9c2a9724c862553826e624d4782085c6.300x300x1.png',\n",
       "    'song_art_image_url': 'https://images.genius.com/9c2a9724c862553826e624d4782085c6.1000x1000x1.png',\n",
       "    'stats': {'unreviewed_annotations': 8, 'hot': False, 'pageviews': 1140355},\n",
       "    'title': 'BTS - Pied Piper (English Translation)',\n",
       "    'title_with_featured': 'BTS - Pied Piper (English Translation)',\n",
       "    'updated_by_human_at': 1656458004,\n",
       "    'url': 'https://genius.com/Genius-english-translations-bts-pied-piper-english-translation-lyrics',\n",
       "    'featured_artists': [],\n",
       "    'primary_artist': {'_type': 'artist',\n",
       "     'api_path': '/artists/196943',\n",
       "     'header_image_url': 'https://images.genius.com/38f8fc30844014c124b4e4a28a39ec40.39x35x1.png',\n",
       "     'id': 196943,\n",
       "     'image_url': 'https://images.genius.com/03131b2068adac6028ecefed2c657d97.222x222x1.png',\n",
       "     'index_character': 'g',\n",
       "     'is_meme_verified': False,\n",
       "     'is_verified': False,\n",
       "     'name': 'Genius English Translations',\n",
       "     'slug': 'Genius-english-translations',\n",
       "     'url': 'https://genius.com/artists/Genius-english-translations'},\n",
       "    'artist': 'Genius English Translations',\n",
       "    'lyrics': \"BTS - Pied Piper (English Translation) Lyrics[Verse 1: Jung Kook, RM]\\nIt's dangerous so it's better\\nYou know deep inside\\nYou can't stop it now (You can't stop)\\nSo be honest with me now\\nStop, now stop watching and study for your test\\nYour parents and boss hate me\\nVideo clips, pictures, tweets\\nV app, Bon Voyage\\nI know, you can't help what you like\\nBut stop, interpret the music video later\\nYou have so many pictures of me in your room anyway\\nIt's not just one hour, it's a whole year that'll disappear\\nSo this song is a reward I'm giving to you\\n[Pre-Chorus: Jin, V, Jin & V]\\nYou're not being punished\\nCome here, I'm your paradise\\nCan't close your eyes (Can't close your eyes)\\nYou can throw a fit but it's no use (Don't reject me)\\nJust close your eyes, tune your ears\\n\\n[Chorus: Jimin, Jung Kook]\\nFollow the sound of the pipe, follow this song\\nIt's a bit dangerous but I'm so sweet\\nI'm here to save you, I'm here to ruin you\\nYou called me, see? I'm so sweet\\nFollow the sound of the pipe\\nOoh-ooh-ooh, oh-oh-oh-oh-oh\\nOoh-ooh-ooh-ooh, oh-oh-oh-oh-oh\\nOoh-ooh-ooh, oh-oh-oh-oh-oh (I'm takin' over you)\\nOoh-ooh-ooh, oh-oh-oh-oh-oh\\nOoh-ooh-ooh-ooh, oh-oh-oh-oh-oh\\nOoh-ooh-ooh, oh-oh-oh-oh-oh (I'm takin' over you)\\n\\n[Verse 2: V, SUGA, j-hope]\\nYou know that it's already begun\\nThe moment you hear that sound (Yeah, SUGA)\\nMaybe I'm a bit dangerous\\nLike the pied piper\\nI'm testing you\\nLike the fruit from the tree of good and evil\\nMy pipe awakens everything\\nThat sound burns you up even more\\nYou're pulled by it, you react\\nI'm endlessly blowing\\nI'm your guilty pleasure\\nYou can't escape, never\\nRelated Songs[Pre-Chorus: Jimin, Jung Kook, Jimin & Jung Kook]\\nYou're not being punished\\nCome here, I'm your paradise\\nCan't close your eyes (Can't close your eyes)\\nYou can throw a fit but it's no use (Don't reject me)\\nJust close your eyes, tune your ears\\n\\n[Chorus: Jin, V]\\nFollow the sound of the pipe, follow this song\\nIt's a bit dangerous but I'm so sweet\\nI'm here to save you, I'm here to ruin you\\nYou called me, see? I'm so sweet\\nFollow the sound of the pipe\\n\\n[Bridge: Jung Kook, Jimin]\\nYeah, I'm a bit dangerous (Ooh-ooh-ooh)\\nI can't even handle myself (Ooh-ooh-ooh)\\nDon't worry, my hands\\nThey're only warm for you\\nIf I'm ruining you right now (Ooh-ooh-ooh)\\nPlease forgive me (Ooh-ooh-ooh)\\nBecause I can't live without you\\nBecause you know all of this\\n\\n[Chorus: Jung Kook, Jimin]\\nOoh-ooh-ooh, oh-oh-oh-oh-oh\\nOoh-ooh-ooh-ooh, oh-oh-oh-oh-oh\\nOoh-ooh-ooh, oh-oh-oh-oh-oh (I'm takin' over you)\\nOoh-ooh-ooh, oh-oh-oh-oh-oh\\nOoh-ooh-ooh-ooh, oh-oh-oh-oh-oh\\nOoh-ooh-ooh, oh-oh-oh-oh-oh (I'm takin' over you)26Embed\"}},\n",
       "  {'number': 7,\n",
       "   'song': {'_type': 'song',\n",
       "    'annotation_count': 8,\n",
       "    'api_path': '/songs/3821253',\n",
       "    'artist_names': 'Genius English Translations',\n",
       "    'full_title': 'BTS - MIC Drop (English Translation) by\\xa0Genius\\xa0English Translations',\n",
       "    'header_image_thumbnail_url': 'https://images.genius.com/9c2a9724c862553826e624d4782085c6.300x300x1.png',\n",
       "    'header_image_url': 'https://images.genius.com/9c2a9724c862553826e624d4782085c6.1000x1000x1.png',\n",
       "    'id': 3821253,\n",
       "    'instrumental': False,\n",
       "    'lyrics_owner_id': 4650044,\n",
       "    'lyrics_state': 'complete',\n",
       "    'lyrics_updated_at': 1636998093,\n",
       "    'path': '/Genius-english-translations-bts-mic-drop-english-translation-lyrics',\n",
       "    'pyongs_count': 15,\n",
       "    'relationships_index_url': 'https://genius.com/Genius-english-translations-bts-mic-drop-english-translation-sample',\n",
       "    'release_date_components': {'year': 2017, 'month': 9, 'day': 18},\n",
       "    'release_date_for_display': 'September 18, 2017',\n",
       "    'song_art_image_thumbnail_url': 'https://images.genius.com/9c2a9724c862553826e624d4782085c6.300x300x1.png',\n",
       "    'song_art_image_url': 'https://images.genius.com/9c2a9724c862553826e624d4782085c6.1000x1000x1.png',\n",
       "    'stats': {'unreviewed_annotations': 7, 'hot': False, 'pageviews': 470654},\n",
       "    'title': 'BTS - MIC Drop (English Translation)',\n",
       "    'title_with_featured': 'BTS - MIC Drop (English Translation)',\n",
       "    'updated_by_human_at': 1636998093,\n",
       "    'url': 'https://genius.com/Genius-english-translations-bts-mic-drop-english-translation-lyrics',\n",
       "    'featured_artists': [],\n",
       "    'primary_artist': {'_type': 'artist',\n",
       "     'api_path': '/artists/196943',\n",
       "     'header_image_url': 'https://images.genius.com/38f8fc30844014c124b4e4a28a39ec40.39x35x1.png',\n",
       "     'id': 196943,\n",
       "     'image_url': 'https://images.genius.com/03131b2068adac6028ecefed2c657d97.222x222x1.png',\n",
       "     'index_character': 'g',\n",
       "     'is_meme_verified': False,\n",
       "     'is_verified': False,\n",
       "     'name': 'Genius English Translations',\n",
       "     'slug': 'Genius-english-translations',\n",
       "     'url': 'https://genius.com/artists/Genius-english-translations'},\n",
       "    'artist': 'Genius English Translations',\n",
       "    'lyrics': 'BTS - MIC Drop (English Translation) Lyrics[Verse 1: j-hope]\\nYeah, who said my spoon is dirty?\\nI don\\'t care, when I grab the mic, I have several gold spoons\\nSeveral uncooked steaks over there make me mad\\nOnce again, I\\'ll chew you all up, on the night of the stars\\nCenter of world business\\nFirst on the recruitment list, sold out\\nThis class is not common, enjoy this value\\nBad odors with good scents are against the rules\\nMic mic bungee\\n[Verse 2: SUGA]\\nMic mic bungee\\nBright lights, going forward\\nYou thought I was gonna fail but I\\'m fine, sorry\\nSorry, \"Billboard\"\\nSorry, \"worldwide\"\\nSorry mom, your son\\'s too hot\\nI\\'m being a good son in place of you\\nNo cons in our concerts\\nI do it, I do it, you\\'re a tasteless ratatouille\\nIf you\\'re jealous, sue me\\nSue it\\n\\n[Pre-Chorus: V, j-hope, Jin, Jimin]\\nDid you see my bag? Did you see my bag?\\nMy bag\\'s filled with trophies\\nHow you think \\'bout that? How you think \\'bout that?\\nHaters are already giving up\\nMy success is already so golden\\nI\\'m so firin\\' firin\\' like a torchbearer\\nYou\\'re rushing to run away\\nHow you dare? How you dare? How you dare?\\n\\n[Chorus: Jung Kook, RM, SUGA, Jimin, j-hope]\\nSo many trophies in my hands\\nToo heavy, my hands aren\\'t enough (turn it up now!)\\nMIC Drop, MIC Drop\\nCareful of your feet, careful of what you say\\nLodi dodi, I\\'m so busy\\nToo busy, my one body isn’t enough (turn it up now!)\\nMIC Drop, MIC Drop\\nCareful of your feet, careful of what you say\\n[Verse 3: RM]\\nThis is the the exact saying\\nRight will prevail in the end\\nOnce upon a time\\nAesop\\'s Fables fly\\nLook at your reality, too bad\\nEven if I die now, I\\'m damn happy (Turn it up)\\nWhich country are we going to this time? (Ooh)\\nSpending hours on a plane (Hey)\\nYeah, I\\'m on the mountain, yeah, I\\'m on the bay (Bay)\\nTotal exhaustion on the stage, MIC Drop baam\\n\\n[Pre-Chorus: V, j-hope, Jin, Jimin]\\nDid you see my bag? Did you see my bag?\\nMy bag\\'s filled with trophies\\nHow you think \\'bout that? How you think \\'bout that?\\nHaters are already giving up\\nMy success is already so golden\\nI\\'m so firin\\' firin\\' like a torchbearer\\nYou\\'re rushing to run away\\nHow you dare? How you dare? How you dare?\\n\\n[Chorus: V, RM, SUGA, Jung Kook, j-hope]\\nSo many trophies in my hands\\nToo heavy, my hands aren\\'t enough (turn it up now!)\\nMIC Drop, MIC Drop\\nCareful of your feet, careful of what you say\\nLodi dodi, I\\'m so busy\\nToo busy, my one body isn’t enough (turn it up now!)\\nMIC Drop, MIC Drop\\nCareful of your feet, careful of what you say\\n[Interlude: RM]\\nHaters gon\\' hate\\nPlayers gon\\' play\\nLive a life, man\\nGood luck\\n\\n[Bridge: Jin, V, Jung Kook]\\nNo need to see each other ever again, this is my last goodbye\\nNothing more left to say, don\\'t even apologize\\nNo need to see each other ever again, this is my last goodbye\\nNothing more left to say, don\\'t even apologize\\n\\n[Outro: Jimin, Jung Kook & Jimin]\\nLook closely, look at your pathetic self\\nWe shoot up just like Coca-Cola\\nYour corneas will be so shocked\\n\\'Cause we’re just so cool15Embed'}},\n",
       "  {'number': 8,\n",
       "   'song': {'_type': 'song',\n",
       "    'annotation_count': 9,\n",
       "    'api_path': '/songs/3821254',\n",
       "    'artist_names': 'Genius English Translations',\n",
       "    'full_title': 'BTS - 고민보다 Go (Go Go) (English Translation) by\\xa0Genius\\xa0English Translations',\n",
       "    'header_image_thumbnail_url': 'https://images.genius.com/9c2a9724c862553826e624d4782085c6.300x300x1.png',\n",
       "    'header_image_url': 'https://images.genius.com/9c2a9724c862553826e624d4782085c6.1000x1000x1.png',\n",
       "    'id': 3821254,\n",
       "    'instrumental': False,\n",
       "    'lyrics_owner_id': 4650044,\n",
       "    'lyrics_state': 'complete',\n",
       "    'lyrics_updated_at': 1651872893,\n",
       "    'path': '/Genius-english-translations-bts-go-go-go-english-translation-lyrics',\n",
       "    'pyongs_count': 3,\n",
       "    'relationships_index_url': 'https://genius.com/Genius-english-translations-bts-go-go-go-english-translation-sample',\n",
       "    'release_date_components': {'year': 2017, 'month': 9, 'day': 18},\n",
       "    'release_date_for_display': 'September 18, 2017',\n",
       "    'song_art_image_thumbnail_url': 'https://images.genius.com/9c2a9724c862553826e624d4782085c6.300x300x1.png',\n",
       "    'song_art_image_url': 'https://images.genius.com/9c2a9724c862553826e624d4782085c6.1000x1000x1.png',\n",
       "    'stats': {'unreviewed_annotations': 5, 'hot': False, 'pageviews': 296647},\n",
       "    'title': 'BTS - 고민보다 Go (Go Go) (English Translation)',\n",
       "    'title_with_featured': 'BTS - 고민보다 Go (Go Go) (English Translation)',\n",
       "    'updated_by_human_at': 1651872893,\n",
       "    'url': 'https://genius.com/Genius-english-translations-bts-go-go-go-english-translation-lyrics',\n",
       "    'featured_artists': [],\n",
       "    'primary_artist': {'_type': 'artist',\n",
       "     'api_path': '/artists/196943',\n",
       "     'header_image_url': 'https://images.genius.com/38f8fc30844014c124b4e4a28a39ec40.39x35x1.png',\n",
       "     'id': 196943,\n",
       "     'image_url': 'https://images.genius.com/03131b2068adac6028ecefed2c657d97.222x222x1.png',\n",
       "     'index_character': 'g',\n",
       "     'is_meme_verified': False,\n",
       "     'is_verified': False,\n",
       "     'name': 'Genius English Translations',\n",
       "     'slug': 'Genius-english-translations',\n",
       "     'url': 'https://genius.com/artists/Genius-english-translations'},\n",
       "    'artist': 'Genius English Translations',\n",
       "    'lyrics': \"BTS - 고민보다 Go (Go Go) (English Translation) Lyrics[Intro: Jimin, RM]\\nDollar dollar\\nSquandering it all in one day\\nRun, run, I make and waste my own money\\nRun, run, run, run\\nRun, run (Yeah, yeah, yeah, yeah!)\\n\\n[Verse 1: j-hope]\\nI want to be cruisin' on the bay\\nI want to be cruisin' like Nemo\\nNo money but I wanna go far away\\nI don't have money but I wanna relax\\nNo money but I wanna eat Jiro Ono's sushi (Swish)\\n[Verse 2: Jung Kook, SUGA]\\nWorked hard to get my pay, yeah\\nGonna spend it all on my stomach\\nPinching pennies to spend it all on wasting it\\nLeave me be, even if I overspend\\nEven if I break apart my savings tomorrow\\nLike a crazy guy (Woo, woo)\\n\\n[Verse 3: Jin, j-hope]\\nOoh, there's no tomorrow\\nThere's already a mortgage on my future (Mortgage)\\nOoh, spending my money even more\\nFriends, what's up?\\nDo you want some? (Want some?)\\n\\n[Pre-Chorus: Jung Kook, Jimin]\\nDollar, dollar\\nSquandering it all in one day\\nRun, run, man, I spend it like some party\\nDollar, dollar\\nTill the sun shines through this mouse hole\\nTill the sun comes up\\n\\n[Chorus: V, j-hope, Jung Kook, RM, Jin]\\nYOLO, YOLO, YOLO, yo\\nYOLO YOLO, yo\\nSquandering fun, squandering fun, squandering fun\\n(Squandering fun, squandering fun)\\nYOLO, YOLO, YOLO, yo (Yo)\\nWhere my money yah\\nSquandering fun, squandering fun, squandering fun\\nYOLO, YOLO, YOLO, yo\\nYOLO YOLO, yo\\nSquandering fun, squandering fun, squandering fun (Woo, woo, woo)\\nYOLO, YOLO, YOLO, yo (Ta)\\nWhere the party yah\\nSquandering fun, squandering fun, squandering fun\\n[Verse 4: V, RM]\\nWhere my money? Yah (Woo)\\nWhere the party? Yah (Woo)\\nMy week goes Monday, Tuesday, Wednesday, Thursday, gold gold gold gold\\nMy bank account is a pot with no bottom, yah (Woo)\\nEvery day, I'm pouring water into it (Woo)\\nJust break it apart\\nWe're too young to just worry\\nFor today, just go instead of worrying\\nIf you get scared and say you're saving, it becomes poop\\nSo rub it all around\\n\\n[Pre-Chorus: Jung Kook, Jimin]\\nDollar, dollar\\nSquandering it all in one day\\nRun, run, man, I spend it like some party\\nDollar, dollar\\nTill the sun shines through this mouse hole\\nTill the sun comes up\\n\\n[Chorus: V, j-hope, Jung Kook, RM, Jin]\\nYOLO, YOLO, YOLO, yo\\nYOLO YOLO, yo\\nSquandering fun, squandering fun, squandering fun\\n(Squandering fun, squandering fun)\\nYOLO, YOLO, YOLO, yo (Yo)\\nWhere my money yah\\nSquandering fun, squandering fun, squandering fun\\nYOLO, YOLO, YOLO, yo\\nYOLO YOLO, yo\\nSquandering fun, squandering fun, squandering fun (Woo, woo, woo)\\nYOLO, YOLO, YOLO, yo (Ta)\\nWhere the party yah\\nSquandering fun, squandering fun, squandering fun\\n[Bridge: V, j-hope, Jin, RM]\\nJust go instead of worrying\\nJust go instead of worrying\\nJust go instead of worrying (Everybody!)\\nJust go instead of worrying\\nJust go instead of worrying\\nJust go instead of worrying (Everybody!)\\n\\n[Post-Bridge: Jung Kook, SUGA, Jimin, j-hope]\\nJust go instead of worrying\\nJust go instead of worrying\\nJust go instead of worrying (Everybody!)\\nJust go instead of worrying\\nJust go instead of worrying\\nJust go instead of worrying (Everybody!)\\n\\n[Outro: Jung Kook, RM, Jimin, SUGA]\\nJust go instead of worrying\\nJust go instead of worrying\\nJust go instead of worrying (Everybody!)\\nJust go instead of worrying\\nJust go instead of worrying\\nJust go instead of worrying (Everybody!)3Embed\"}},\n",
       "  {'number': 9,\n",
       "   'song': {'_type': 'song',\n",
       "    'annotation_count': 4,\n",
       "    'api_path': '/songs/3817732',\n",
       "    'artist_names': 'Genius English Translations',\n",
       "    'full_title': 'BTS - Outro: Her (English Translation) by\\xa0Genius\\xa0English Translations',\n",
       "    'header_image_thumbnail_url': 'https://images.genius.com/9c2a9724c862553826e624d4782085c6.300x300x1.png',\n",
       "    'header_image_url': 'https://images.genius.com/9c2a9724c862553826e624d4782085c6.1000x1000x1.png',\n",
       "    'id': 3817732,\n",
       "    'instrumental': False,\n",
       "    'lyrics_owner_id': 271096,\n",
       "    'lyrics_state': 'complete',\n",
       "    'lyrics_updated_at': 1649981317,\n",
       "    'path': '/Genius-english-translations-bts-outro-her-english-translation-lyrics',\n",
       "    'pyongs_count': 2,\n",
       "    'relationships_index_url': 'https://genius.com/Genius-english-translations-bts-outro-her-english-translation-sample',\n",
       "    'release_date_components': {'year': 2017, 'month': 9, 'day': 18},\n",
       "    'release_date_for_display': 'September 18, 2017',\n",
       "    'song_art_image_thumbnail_url': 'https://images.genius.com/9c2a9724c862553826e624d4782085c6.300x300x1.png',\n",
       "    'song_art_image_url': 'https://images.genius.com/9c2a9724c862553826e624d4782085c6.1000x1000x1.png',\n",
       "    'stats': {'unreviewed_annotations': 4, 'hot': False, 'pageviews': 187799},\n",
       "    'title': 'BTS - Outro: Her (English Translation)',\n",
       "    'title_with_featured': 'BTS - Outro: Her (English Translation)',\n",
       "    'updated_by_human_at': 1652121948,\n",
       "    'url': 'https://genius.com/Genius-english-translations-bts-outro-her-english-translation-lyrics',\n",
       "    'featured_artists': [],\n",
       "    'primary_artist': {'_type': 'artist',\n",
       "     'api_path': '/artists/196943',\n",
       "     'header_image_url': 'https://images.genius.com/38f8fc30844014c124b4e4a28a39ec40.39x35x1.png',\n",
       "     'id': 196943,\n",
       "     'image_url': 'https://images.genius.com/03131b2068adac6028ecefed2c657d97.222x222x1.png',\n",
       "     'index_character': 'g',\n",
       "     'is_meme_verified': False,\n",
       "     'is_verified': False,\n",
       "     'name': 'Genius English Translations',\n",
       "     'slug': 'Genius-english-translations',\n",
       "     'url': 'https://genius.com/artists/Genius-english-translations'},\n",
       "    'artist': 'Genius English Translations',\n",
       "    'lyrics': \"BTS - Outro: Her (English Translation) Lyrics[Verse 1: RM]\\nThe world is a complex\\nWe wus lookin’ for love\\nI was just one of those people\\nDidn’t even believe in true love\\nJust said I wanted to be in love like a habit\\nBut I found myself\\nThe whole new myself\\nI’m confused too, which one’s the real me?\\nDid you figure out that I’m a book after I met you?\\nOr did you turn my page?\\nDamn\\nAnyway, I wanna be the best man for you\\nOf course, you’re the world to me\\nWhen you said you wanted to die with me\\nI promised to be the man you want, God I swore to myself\\nSo many complex\\nBut I’m lookin’ for love\\nI don’t care if it’s a fake me, if you hold me\\nYou’re my beginning and my end\\nSo you finish me\\n[Chorus: RM]\\nAll of my wonder\\nYou’re the answer\\nI call you her, her\\n'Cause you’re my tear, tear\\nAll of my wonder\\nYou’re the answer\\nI call you her, her\\n'Cause you’re my tear, tear\\n\\n[Verse 2: Suga]\\nMaybe I’m your truth and your lie\\nMaybe I’m your love and hate\\nMaybe I’m your enemy and friend\\nYour heaven and hell, your pride and embarrassment\\nI can never take off the mask\\nBecause the me behind this mask\\nIs not the one you know\\nMake up to wake up today too\\nAnd dress up to mask on\\nIn order to become the me that you love\\nIn order to become the one that you love\\nI quit the XX that I liked so much\\nJust for you\\nI put on clothes I hate, excessive make up\\nBecause your laughter and happiness is the scale of my happiness\\nThis is how I am, do I deserve your love?\\nI always make an effort to be the best for you\\nI hope you don’t know this part of me\\n[Chorus: Suga]\\nAll of my wonder\\nYou’re the answer\\nI call you her, her\\n'Cause you’re my tear, tear\\nAll of my wonder\\nYou’re the answer\\nI call you her, her\\n'Cause you’re my tear, tear\\n\\n[Verse 3: J-Hope]\\nJust like always, mask on\\nGreeting me with cheers, her\\nI’m your star, I shine as if nothing’s wrong\\nBut the moment I should shine the most, I take my mask off\\nLost star, I’m laying down my burdens, enjoying the darkness\\nThere’s no lights to shoot at me as if it’s killing me\\nJust going wherever my heart goes\\nHowever my senses lead me, whatever doesn’t hold me down\\nTick tock the dark is over\\nOnce again, to be your best\\nI’m holding onto myself\\nLove makes a person go crazy\\nYeah, this is a crazy guy’s determination\\nSubstituting myself to be the most me\\nFor you, who is my everything, I’m giving you the answer I came up with\\nBut you love that\\nSo through that, I’m making an effort\\nWith your existence, I find new meaning and the night shines\\nNow I know, even after the darkness\\nTo me, you are the morning\\nYou woke me up\\n[Chorus: J-Hope]\\nAll of my wonder\\nYou’re the answer\\nI call you her, her\\n'Cause you’re my tear, tear\\nAll of my wonder\\nYou’re the answer\\nI call you her, her\\n'Cause you’re my tear, tear2Embed\"}},\n",
       "  {'number': 11,\n",
       "   'song': {'_type': 'song',\n",
       "    'annotation_count': 9,\n",
       "    'api_path': '/songs/3821257',\n",
       "    'artist_names': 'Genius English Translations',\n",
       "    'full_title': 'BTS - 바다 (Sea) (English Translation) by\\xa0Genius\\xa0English Translations',\n",
       "    'header_image_thumbnail_url': 'https://images.genius.com/9c2a9724c862553826e624d4782085c6.300x300x1.png',\n",
       "    'header_image_url': 'https://images.genius.com/9c2a9724c862553826e624d4782085c6.1000x1000x1.png',\n",
       "    'id': 3821257,\n",
       "    'instrumental': False,\n",
       "    'lyrics_owner_id': 4650044,\n",
       "    'lyrics_state': 'complete',\n",
       "    'lyrics_updated_at': 1655660939,\n",
       "    'path': '/Genius-english-translations-bts-sea-english-translation-lyrics',\n",
       "    'pyongs_count': 13,\n",
       "    'relationships_index_url': 'https://genius.com/Genius-english-translations-bts-sea-english-translation-sample',\n",
       "    'release_date_components': {'year': 2017, 'month': 9, 'day': 18},\n",
       "    'release_date_for_display': 'September 18, 2017',\n",
       "    'song_art_image_thumbnail_url': 'https://images.genius.com/9c2a9724c862553826e624d4782085c6.300x300x1.png',\n",
       "    'song_art_image_url': 'https://images.genius.com/9c2a9724c862553826e624d4782085c6.1000x1000x1.png',\n",
       "    'stats': {'unreviewed_annotations': 7, 'hot': False, 'pageviews': 378879},\n",
       "    'title': 'BTS - 바다 (Sea) (English Translation)',\n",
       "    'title_with_featured': 'BTS - 바다 (Sea) (English Translation)',\n",
       "    'updated_by_human_at': 1655660940,\n",
       "    'url': 'https://genius.com/Genius-english-translations-bts-sea-english-translation-lyrics',\n",
       "    'featured_artists': [],\n",
       "    'primary_artist': {'_type': 'artist',\n",
       "     'api_path': '/artists/196943',\n",
       "     'header_image_url': 'https://images.genius.com/38f8fc30844014c124b4e4a28a39ec40.39x35x1.png',\n",
       "     'id': 196943,\n",
       "     'image_url': 'https://images.genius.com/03131b2068adac6028ecefed2c657d97.222x222x1.png',\n",
       "     'index_character': 'g',\n",
       "     'is_meme_verified': False,\n",
       "     'is_verified': False,\n",
       "     'name': 'Genius English Translations',\n",
       "     'slug': 'Genius-english-translations',\n",
       "     'url': 'https://genius.com/artists/Genius-english-translations'},\n",
       "    'artist': 'Genius English Translations',\n",
       "    'lyrics': \"BTS - 바다 (Sea) (English Translation) Lyrics[Intro: Jungkook]\\nOh, ah, yeah\\n\\n[Verse 1: Rap Monster]\\nI just started walking and ended up at the sea\\nI'm looking at the coast from here\\nThere's endless sand and the rough wind\\nI'm still looking at a desert\\nI wanted to have the sea so I swallowed you up\\nBut I'm even thirstier than before\\nIs what I know really the ocean?\\nOr a blue desert?\\n[Refrain: J-Hope]\\nI don't know, I don't know\\nIf I'm feeling the waves right now, yeah\\nI don't know, I don't know\\nIf I'm being chased by the sand wind, yeah\\nI don't know, I don't know\\nIs this the sea or the desert?\\nIs this hope or despair?\\nIs this real or fake? Shit\\n\\n[Pre-Chorus: J-Hope]\\nI know, I know, my hardship right now\\nI know, I know, I'll overcome\\nI know, I know, open me up\\nIt's the place I can rely on\\nThink positive, I'm swallowing my dry spit\\nEven if I'm nervous, even if I'm in a desert\\nI'm in the beautiful Namib Desert\\n\\n[Chorus: Jimin, Jin]\\nWhere there is hope, there is always trial\\nWhere there is hope, there is always trial\\nWhere there is hope, there is always trial\\nWhere there is hope, there is always trial\\n\\n[Hook: V, Jungkook]\\nWhere there is hope\\nYou know, you know\\nYou know, yeah yeah\\nWhere there is hope\\nYou know, you know\\nYou know, yeah yeah\\n[Verse 2: Suga]\\nI thought this was the ocean but it's a desert\\nA medium-sized, ordinary idol was my second name\\nCountless people get cut from broadcast\\nBut someone's empty spot is our dream\\nThey say some of these kids can't make it cuz their agency is too small\\nI know, I know, I know too\\nTimes when the seven of us had to sleep in one room\\nWith foolish hope that tomorrow will be different before we fell asleep\\nWe saw the mirage in the desert but we couldn't grasp it\\nPraying that we'll remain in this desert till the end\\nPraying that this isn't truly our reality\\n\\n[Verse 3: Suga]\\nIn the end, we reached the mirage and it became our reality\\nThe scary desert became the ocean with our blood, sweat and tears\\nBut why is there this fear in between the happiness?\\nBecause we know too well that this place is really a desert\\n\\n[Refrain 2: Suga]\\nI don't wanna cry\\nI don't wanna rest\\nNo, who cares if we rest a little?\\nNo no no\\nI don't wanna lose\\nIt's always a desert\\nI told you everything\\nThen I'll just be more depressed\\n[Chorus: Jungkook, V]\\nWhere there is hope, there is always trial\\nWhere there is hope, there is always trial\\n\\n[Hook: Jimin, Jin]\\nWhere there is hope\\nYou know, you know\\nYou know, yeah yeah\\nWhere there is hope\\nYou know, you know\\nYou know, yeah yeah\\n\\n[Bridge: Rap Monster]\\nOcean, desert, the world\\nEverything, the same thing\\nDifferent name\\nI see ocean, l see desert\\nI see the world\\nEverything's, the same thing\\nWith a different name\\nIt's life again\\n\\n[Hook: V, Jungkook]\\nWhere there is hope\\nYou know you know you know yeah\\nWhere there is hope\\nYou know you know you know yeah\\n\\n[Chorus: Jin, Jungkook, Jimin]\\nWhere there is hope, there is always trial\\nWhere there is hope, there is always trial\\n\\n[Outro: V]\\nWe need to be in despair, for all our hardships\\nWe need to be in despair, for all our hardships13Embed\"}}]}"
      ]
     },
     "execution_count": 184,
     "metadata": {},
     "output_type": "execute_result"
    }
   ],
   "source": [
    "# View of JSON file data\n",
    "data"
   ]
  },
  {
   "cell_type": "code",
   "execution_count": 201,
   "id": "dbea2362",
   "metadata": {},
   "outputs": [
    {
     "name": "stderr",
     "output_type": "stream",
     "text": [
      "/var/folders/t1/njfw6dkd30j6q9tb_njj8vn40000gn/T/ipykernel_31785/1787110495.py:8: FutureWarning: pandas.io.json.json_normalize is deprecated, use pandas.json_normalize instead.\n",
      "  df = json_normalize(d, 'tracks')\n"
     ]
    },
    {
     "data": {
      "text/html": [
       "<div>\n",
       "<style scoped>\n",
       "    .dataframe tbody tr th:only-of-type {\n",
       "        vertical-align: middle;\n",
       "    }\n",
       "\n",
       "    .dataframe tbody tr th {\n",
       "        vertical-align: top;\n",
       "    }\n",
       "\n",
       "    .dataframe thead th {\n",
       "        text-align: right;\n",
       "    }\n",
       "</style>\n",
       "<table border=\"1\" class=\"dataframe\">\n",
       "  <thead>\n",
       "    <tr style=\"text-align: right;\">\n",
       "      <th></th>\n",
       "      <th>number</th>\n",
       "      <th>song._type</th>\n",
       "      <th>song.annotation_count</th>\n",
       "      <th>song.api_path</th>\n",
       "      <th>song.artist_names</th>\n",
       "      <th>song.full_title</th>\n",
       "      <th>song.header_image_thumbnail_url</th>\n",
       "      <th>song.header_image_url</th>\n",
       "      <th>song.id</th>\n",
       "      <th>song.instrumental</th>\n",
       "      <th>...</th>\n",
       "      <th>song.primary_artist.image_url</th>\n",
       "      <th>song.primary_artist.index_character</th>\n",
       "      <th>song.primary_artist.is_meme_verified</th>\n",
       "      <th>song.primary_artist.is_verified</th>\n",
       "      <th>song.primary_artist.name</th>\n",
       "      <th>song.primary_artist.slug</th>\n",
       "      <th>song.primary_artist.url</th>\n",
       "      <th>song.artist</th>\n",
       "      <th>song.lyrics</th>\n",
       "      <th>album</th>\n",
       "    </tr>\n",
       "  </thead>\n",
       "  <tbody>\n",
       "    <tr>\n",
       "      <th>0</th>\n",
       "      <td>1</td>\n",
       "      <td>song</td>\n",
       "      <td>8</td>\n",
       "      <td>/songs/3821249</td>\n",
       "      <td>Genius English Translations</td>\n",
       "      <td>BTS - Intro: Serendipity (세렌디피티) (English Tran...</td>\n",
       "      <td>https://images.genius.com/9c2a9724c862553826e6...</td>\n",
       "      <td>https://images.genius.com/9c2a9724c862553826e6...</td>\n",
       "      <td>3821249</td>\n",
       "      <td>False</td>\n",
       "      <td>...</td>\n",
       "      <td>https://images.genius.com/03131b2068adac6028ec...</td>\n",
       "      <td>g</td>\n",
       "      <td>False</td>\n",
       "      <td>False</td>\n",
       "      <td>Genius English Translations</td>\n",
       "      <td>Genius-english-translations</td>\n",
       "      <td>https://genius.com/artists/Genius-english-tran...</td>\n",
       "      <td>Genius English Translations</td>\n",
       "      <td>BTS - Intro: Serendipity (세렌디피티) (English Tran...</td>\n",
       "      <td>BTS- Love Yourself 承 ‘Her’ (English Translation)</td>\n",
       "    </tr>\n",
       "    <tr>\n",
       "      <th>1</th>\n",
       "      <td>2</td>\n",
       "      <td>song</td>\n",
       "      <td>4</td>\n",
       "      <td>/songs/3804151</td>\n",
       "      <td>Genius English Translations</td>\n",
       "      <td>BTS - DNA (English Translation) by Genius Engl...</td>\n",
       "      <td>https://images.genius.com/defe85d4b2185eb430b3...</td>\n",
       "      <td>https://images.genius.com/defe85d4b2185eb430b3...</td>\n",
       "      <td>3804151</td>\n",
       "      <td>False</td>\n",
       "      <td>...</td>\n",
       "      <td>https://images.genius.com/03131b2068adac6028ec...</td>\n",
       "      <td>g</td>\n",
       "      <td>False</td>\n",
       "      <td>False</td>\n",
       "      <td>Genius English Translations</td>\n",
       "      <td>Genius-english-translations</td>\n",
       "      <td>https://genius.com/artists/Genius-english-tran...</td>\n",
       "      <td>Genius English Translations</td>\n",
       "      <td>BTS - DNA (English Translation) Lyrics[Verse 1...</td>\n",
       "      <td>BTS- Love Yourself 承 ‘Her’ (English Translation)</td>\n",
       "    </tr>\n",
       "    <tr>\n",
       "      <th>2</th>\n",
       "      <td>3</td>\n",
       "      <td>song</td>\n",
       "      <td>1</td>\n",
       "      <td>/songs/3821250</td>\n",
       "      <td>Genius English Translations</td>\n",
       "      <td>BTS - Best Of Me (English Translation) by Geni...</td>\n",
       "      <td>https://images.genius.com/9c2a9724c862553826e6...</td>\n",
       "      <td>https://images.genius.com/9c2a9724c862553826e6...</td>\n",
       "      <td>3821250</td>\n",
       "      <td>False</td>\n",
       "      <td>...</td>\n",
       "      <td>https://images.genius.com/03131b2068adac6028ec...</td>\n",
       "      <td>g</td>\n",
       "      <td>False</td>\n",
       "      <td>False</td>\n",
       "      <td>Genius English Translations</td>\n",
       "      <td>Genius-english-translations</td>\n",
       "      <td>https://genius.com/artists/Genius-english-tran...</td>\n",
       "      <td>Genius English Translations</td>\n",
       "      <td>BTS - Best Of Me (English Translation) Lyrics[...</td>\n",
       "      <td>BTS- Love Yourself 承 ‘Her’ (English Translation)</td>\n",
       "    </tr>\n",
       "    <tr>\n",
       "      <th>3</th>\n",
       "      <td>4</td>\n",
       "      <td>song</td>\n",
       "      <td>3</td>\n",
       "      <td>/songs/3821251</td>\n",
       "      <td>Genius English Translations</td>\n",
       "      <td>BTS - 보조개 (​Dimple) (English Translation) by G...</td>\n",
       "      <td>https://images.genius.com/9c2a9724c862553826e6...</td>\n",
       "      <td>https://images.genius.com/9c2a9724c862553826e6...</td>\n",
       "      <td>3821251</td>\n",
       "      <td>False</td>\n",
       "      <td>...</td>\n",
       "      <td>https://images.genius.com/03131b2068adac6028ec...</td>\n",
       "      <td>g</td>\n",
       "      <td>False</td>\n",
       "      <td>False</td>\n",
       "      <td>Genius English Translations</td>\n",
       "      <td>Genius-english-translations</td>\n",
       "      <td>https://genius.com/artists/Genius-english-tran...</td>\n",
       "      <td>Genius English Translations</td>\n",
       "      <td>BTS - 보조개 (​Dimple) (English Translation) Lyri...</td>\n",
       "      <td>BTS- Love Yourself 承 ‘Her’ (English Translation)</td>\n",
       "    </tr>\n",
       "    <tr>\n",
       "      <th>4</th>\n",
       "      <td>5</td>\n",
       "      <td>song</td>\n",
       "      <td>8</td>\n",
       "      <td>/songs/3808586</td>\n",
       "      <td>Genius English Translations</td>\n",
       "      <td>BTS - Pied Piper (English Translation) by Geni...</td>\n",
       "      <td>https://images.genius.com/9c2a9724c862553826e6...</td>\n",
       "      <td>https://images.genius.com/9c2a9724c862553826e6...</td>\n",
       "      <td>3808586</td>\n",
       "      <td>False</td>\n",
       "      <td>...</td>\n",
       "      <td>https://images.genius.com/03131b2068adac6028ec...</td>\n",
       "      <td>g</td>\n",
       "      <td>False</td>\n",
       "      <td>False</td>\n",
       "      <td>Genius English Translations</td>\n",
       "      <td>Genius-english-translations</td>\n",
       "      <td>https://genius.com/artists/Genius-english-tran...</td>\n",
       "      <td>Genius English Translations</td>\n",
       "      <td>BTS - Pied Piper (English Translation) Lyrics[...</td>\n",
       "      <td>BTS- Love Yourself 承 ‘Her’ (English Translation)</td>\n",
       "    </tr>\n",
       "  </tbody>\n",
       "</table>\n",
       "<p>5 rows × 44 columns</p>\n",
       "</div>"
      ],
      "text/plain": [
       "   number song._type  song.annotation_count   song.api_path  \\\n",
       "0       1       song                      8  /songs/3821249   \n",
       "1       2       song                      4  /songs/3804151   \n",
       "2       3       song                      1  /songs/3821250   \n",
       "3       4       song                      3  /songs/3821251   \n",
       "4       5       song                      8  /songs/3808586   \n",
       "\n",
       "             song.artist_names  \\\n",
       "0  Genius English Translations   \n",
       "1  Genius English Translations   \n",
       "2  Genius English Translations   \n",
       "3  Genius English Translations   \n",
       "4  Genius English Translations   \n",
       "\n",
       "                                     song.full_title  \\\n",
       "0  BTS - Intro: Serendipity (세렌디피티) (English Tran...   \n",
       "1  BTS - DNA (English Translation) by Genius Engl...   \n",
       "2  BTS - Best Of Me (English Translation) by Geni...   \n",
       "3  BTS - 보조개 (​Dimple) (English Translation) by G...   \n",
       "4  BTS - Pied Piper (English Translation) by Geni...   \n",
       "\n",
       "                     song.header_image_thumbnail_url  \\\n",
       "0  https://images.genius.com/9c2a9724c862553826e6...   \n",
       "1  https://images.genius.com/defe85d4b2185eb430b3...   \n",
       "2  https://images.genius.com/9c2a9724c862553826e6...   \n",
       "3  https://images.genius.com/9c2a9724c862553826e6...   \n",
       "4  https://images.genius.com/9c2a9724c862553826e6...   \n",
       "\n",
       "                               song.header_image_url  song.id  \\\n",
       "0  https://images.genius.com/9c2a9724c862553826e6...  3821249   \n",
       "1  https://images.genius.com/defe85d4b2185eb430b3...  3804151   \n",
       "2  https://images.genius.com/9c2a9724c862553826e6...  3821250   \n",
       "3  https://images.genius.com/9c2a9724c862553826e6...  3821251   \n",
       "4  https://images.genius.com/9c2a9724c862553826e6...  3808586   \n",
       "\n",
       "   song.instrumental  ...                      song.primary_artist.image_url  \\\n",
       "0              False  ...  https://images.genius.com/03131b2068adac6028ec...   \n",
       "1              False  ...  https://images.genius.com/03131b2068adac6028ec...   \n",
       "2              False  ...  https://images.genius.com/03131b2068adac6028ec...   \n",
       "3              False  ...  https://images.genius.com/03131b2068adac6028ec...   \n",
       "4              False  ...  https://images.genius.com/03131b2068adac6028ec...   \n",
       "\n",
       "  song.primary_artist.index_character  song.primary_artist.is_meme_verified  \\\n",
       "0                                   g                                 False   \n",
       "1                                   g                                 False   \n",
       "2                                   g                                 False   \n",
       "3                                   g                                 False   \n",
       "4                                   g                                 False   \n",
       "\n",
       "  song.primary_artist.is_verified     song.primary_artist.name  \\\n",
       "0                           False  Genius English Translations   \n",
       "1                           False  Genius English Translations   \n",
       "2                           False  Genius English Translations   \n",
       "3                           False  Genius English Translations   \n",
       "4                           False  Genius English Translations   \n",
       "\n",
       "      song.primary_artist.slug  \\\n",
       "0  Genius-english-translations   \n",
       "1  Genius-english-translations   \n",
       "2  Genius-english-translations   \n",
       "3  Genius-english-translations   \n",
       "4  Genius-english-translations   \n",
       "\n",
       "                             song.primary_artist.url  \\\n",
       "0  https://genius.com/artists/Genius-english-tran...   \n",
       "1  https://genius.com/artists/Genius-english-tran...   \n",
       "2  https://genius.com/artists/Genius-english-tran...   \n",
       "3  https://genius.com/artists/Genius-english-tran...   \n",
       "4  https://genius.com/artists/Genius-english-tran...   \n",
       "\n",
       "                   song.artist  \\\n",
       "0  Genius English Translations   \n",
       "1  Genius English Translations   \n",
       "2  Genius English Translations   \n",
       "3  Genius English Translations   \n",
       "4  Genius English Translations   \n",
       "\n",
       "                                         song.lyrics  \\\n",
       "0  BTS - Intro: Serendipity (세렌디피티) (English Tran...   \n",
       "1  BTS - DNA (English Translation) Lyrics[Verse 1...   \n",
       "2  BTS - Best Of Me (English Translation) Lyrics[...   \n",
       "3  BTS - 보조개 (​Dimple) (English Translation) Lyri...   \n",
       "4  BTS - Pied Piper (English Translation) Lyrics[...   \n",
       "\n",
       "                                              album  \n",
       "0  BTS- Love Yourself 承 ‘Her’ (English Translation)  \n",
       "1  BTS- Love Yourself 承 ‘Her’ (English Translation)  \n",
       "2  BTS- Love Yourself 承 ‘Her’ (English Translation)  \n",
       "3  BTS- Love Yourself 承 ‘Her’ (English Translation)  \n",
       "4  BTS- Love Yourself 承 ‘Her’ (English Translation)  \n",
       "\n",
       "[5 rows x 44 columns]"
      ]
     },
     "execution_count": 201,
     "metadata": {},
     "output_type": "execute_result"
    }
   ],
   "source": [
    "# Extract JSON data into dataframe\n",
    "from pandas.io.json import json_normalize\n",
    "import json\n",
    "\n",
    "with open('Lyrics_BTSLoveYourself承HerEnglishTranslation.json') as data_file:    \n",
    "    d= json.load(data_file)  \n",
    "\n",
    "df = json_normalize(d, 'tracks')\n",
    "df['album']=d['name']\n",
    "df.head()"
   ]
  },
  {
   "cell_type": "code",
   "execution_count": 222,
   "id": "d034d10e",
   "metadata": {},
   "outputs": [
    {
     "data": {
      "text/plain": [
       "'BTS - Good Day (English Translation) Lyrics[Chorus: Jung Kook, Jimin]\\nI said it\\'s alright, oh yeah\\nOne day it\\'ll be a good day, for sure\\nYou won\\'t be alone, always\\nI\\'ll be by your side, we\\'ll be okay\\nIf we\\'re connected, (sunny light) surely it\\'ll be brighter tomorrow\\n\\n[Verse 1: SUGA, j-hope, Jung Kook]\\nAs you share happiness, it multiplies\\nBut if you share sadness also, it multiplies too\\nSo always laugh\\nAnd rest on my shoulder\\nWe may argue sometimes, but we make up quickly\\nI understand your feelings too, well~ it\\'s written on your face\\nThings like appearance, hmm hmm it\\'s as if it doesn\\'t matter\\nIt has no relationship with our \"relationship\"\\nIt\\'s finе even if it\\'s evеryday\\nShowing off at this point, no thanks\\nEven without money, just seeing you is OK\\nSo don\\'t worry, let\\'s laugh again\\nYep, bro (Yeo, bro), always the same\\nYep, bro (Yep, bro), by your side\\n(Yeah) At anytime, we happy together\\nThis unchanging feeling is the same as from back then (Oh, oh)\\n[Chorus: Jin, V, Jung Kook, Jimin]\\nI said it\\'s alright, oh yeah\\nOne day it\\'ll be a good day, for sure\\nYou won\\'t be alone, always\\nI\\'ll be by your side, we\\'ll be okay\\nIf we\\'re connected, surely it\\'ll be brighter tomorrow\\n\\n[Verse 2: j-hope, RM, Jung Kook]\\nIt\\'s already been three years since we\\'ve started walking together\\nBetween men, the idea of the \"Oath of the Peach Garden\"\\nWe\\'re pretty much family\\nLike the blood that flows through our bodies\\nLike \"lifting\" weight, I\\'ll \"lift\" you up\\nLaughing with friends until the end of our thoughts\\nMa friend, don\\'t be afraid\\nThe swag amongst those who can hold on to their hope seriously\\nAy, hold up\\nGrab onto my hand\\nLet\\'s fly! We in Gangnam\\nNow cheers! The Champagne that pops\\nYou can depend on me\\nYou can say \"it\\'s hard\"\\nTo me\\nYou can lean on me (lean on me), lay on me (lay on me)\\nLean on me (lean on…)\\n[Chorus: V, Jung Kook]\\nSo laugh, oh yeah\\nTomorrow is a new day, that\\'s why\\nThe night is over, oh yeah\\nThe light is shining in, just go your way\\n\\n[Bridge: V, Jung Kook]\\nThe space between dreams and reality\\nWe keep walking (We keep walking)\\nTill the end of life (till the end of life)\\nJoy and even pain\\nIf we share it…\\n\\n[Chorus: Jung Kook, Jimin]\\nI said it\\'s alright, oh yeah\\nOne day it\\'ll be a good day, for sure\\nYou won\\'t be alone, always\\nI\\'ll be by your side, we\\'ll be okay\\nIf we\\'re connected, surely it\\'ll be brighter tomorrow\\n\\n[Outro: Jin]\\nI said it\\'s alright, oh yeah\\nOne day it\\'ll be a good day, foreverEmbed'"
      ]
     },
     "execution_count": 222,
     "metadata": {},
     "output_type": "execute_result"
    }
   ],
   "source": [
    "# Inspect Lyrics field\n",
    "# NOTE: there's noise in the lyrics such as Related Songs24Embed', 'Related Songs', '26Embed' \n",
    "# that will need to be removed\n",
    "# create a flag in our final dataset to see what songs have this noise\n",
    "\n",
    "pd.set_option('display.max_colwidth', None)\n",
    "df['song.lyrics'][0]"
   ]
  },
  {
   "cell_type": "code",
   "execution_count": 205,
   "id": "240cb9b0",
   "metadata": {},
   "outputs": [],
   "source": [
    "pd.reset_option('display.max_colwidth')"
   ]
  },
  {
   "cell_type": "code",
   "execution_count": 189,
   "id": "92eacfa0",
   "metadata": {},
   "outputs": [
    {
     "name": "stdout",
     "output_type": "stream",
     "text": [
      "number\n",
      "song._type\n",
      "song.annotation_count\n",
      "song.api_path\n",
      "song.artist_names\n",
      "song.full_title\n",
      "song.header_image_thumbnail_url\n",
      "song.header_image_url\n",
      "song.id\n",
      "song.instrumental\n",
      "song.lyrics_owner_id\n",
      "song.lyrics_state\n",
      "song.lyrics_updated_at\n",
      "song.path\n",
      "song.pyongs_count\n",
      "song.relationships_index_url\n",
      "song.release_date_components.year\n",
      "song.release_date_components.month\n",
      "song.release_date_components.day\n",
      "song.release_date_for_display\n",
      "song.song_art_image_thumbnail_url\n",
      "song.song_art_image_url\n",
      "song.stats.unreviewed_annotations\n",
      "song.stats.hot\n",
      "song.stats.pageviews\n",
      "song.title\n",
      "song.title_with_featured\n",
      "song.updated_by_human_at\n",
      "song.url\n",
      "song.featured_artists\n",
      "song.primary_artist._type\n",
      "song.primary_artist.api_path\n",
      "song.primary_artist.header_image_url\n",
      "song.primary_artist.id\n",
      "song.primary_artist.image_url\n",
      "song.primary_artist.index_character\n",
      "song.primary_artist.is_meme_verified\n",
      "song.primary_artist.is_verified\n",
      "song.primary_artist.name\n",
      "song.primary_artist.slug\n",
      "song.primary_artist.url\n",
      "song.artist\n",
      "song.lyrics\n"
     ]
    }
   ],
   "source": [
    "# List of columns in dataframe\n",
    "for col in df.columns:\n",
    "    print(col)"
   ]
  },
  {
   "cell_type": "code",
   "execution_count": 215,
   "id": "11503677",
   "metadata": {},
   "outputs": [
    {
     "name": "stdout",
     "output_type": "stream",
     "text": [
      "Wrote lyrics_bts_album0.json.\n"
     ]
    },
    {
     "name": "stderr",
     "output_type": "stream",
     "text": [
      "/var/folders/t1/njfw6dkd30j6q9tb_njj8vn40000gn/T/ipykernel_31785/4258930956.py:34: FutureWarning: pandas.io.json.json_normalize is deprecated, use pandas.json_normalize instead.\n",
      "  df = json_normalize(d, 'tracks')\n",
      "/var/folders/t1/njfw6dkd30j6q9tb_njj8vn40000gn/T/ipykernel_31785/4258930956.py:36: FutureWarning: The frame.append method is deprecated and will be removed from pandas in a future version. Use pandas.concat instead.\n",
      "  bts_songs_df=bts_songs_df.append(df)\n"
     ]
    },
    {
     "name": "stdout",
     "output_type": "stream",
     "text": [
      "Wrote lyrics_bts_album1.json.\n"
     ]
    },
    {
     "name": "stderr",
     "output_type": "stream",
     "text": [
      "/var/folders/t1/njfw6dkd30j6q9tb_njj8vn40000gn/T/ipykernel_31785/4258930956.py:34: FutureWarning: pandas.io.json.json_normalize is deprecated, use pandas.json_normalize instead.\n",
      "  df = json_normalize(d, 'tracks')\n",
      "/var/folders/t1/njfw6dkd30j6q9tb_njj8vn40000gn/T/ipykernel_31785/4258930956.py:36: FutureWarning: The frame.append method is deprecated and will be removed from pandas in a future version. Use pandas.concat instead.\n",
      "  bts_songs_df=bts_songs_df.append(df)\n"
     ]
    },
    {
     "name": "stdout",
     "output_type": "stream",
     "text": [
      "Wrote lyrics_bts_album2.json.\n"
     ]
    },
    {
     "name": "stderr",
     "output_type": "stream",
     "text": [
      "/var/folders/t1/njfw6dkd30j6q9tb_njj8vn40000gn/T/ipykernel_31785/4258930956.py:34: FutureWarning: pandas.io.json.json_normalize is deprecated, use pandas.json_normalize instead.\n",
      "  df = json_normalize(d, 'tracks')\n",
      "/var/folders/t1/njfw6dkd30j6q9tb_njj8vn40000gn/T/ipykernel_31785/4258930956.py:36: FutureWarning: The frame.append method is deprecated and will be removed from pandas in a future version. Use pandas.concat instead.\n",
      "  bts_songs_df=bts_songs_df.append(df)\n"
     ]
    },
    {
     "name": "stdout",
     "output_type": "stream",
     "text": [
      "Wrote lyrics_bts_album3.json.\n"
     ]
    },
    {
     "name": "stderr",
     "output_type": "stream",
     "text": [
      "/var/folders/t1/njfw6dkd30j6q9tb_njj8vn40000gn/T/ipykernel_31785/4258930956.py:34: FutureWarning: pandas.io.json.json_normalize is deprecated, use pandas.json_normalize instead.\n",
      "  df = json_normalize(d, 'tracks')\n",
      "/var/folders/t1/njfw6dkd30j6q9tb_njj8vn40000gn/T/ipykernel_31785/4258930956.py:36: FutureWarning: The frame.append method is deprecated and will be removed from pandas in a future version. Use pandas.concat instead.\n",
      "  bts_songs_df=bts_songs_df.append(df)\n"
     ]
    },
    {
     "name": "stdout",
     "output_type": "stream",
     "text": [
      "Wrote lyrics_bts_album4.json.\n"
     ]
    },
    {
     "name": "stderr",
     "output_type": "stream",
     "text": [
      "/var/folders/t1/njfw6dkd30j6q9tb_njj8vn40000gn/T/ipykernel_31785/4258930956.py:34: FutureWarning: pandas.io.json.json_normalize is deprecated, use pandas.json_normalize instead.\n",
      "  df = json_normalize(d, 'tracks')\n",
      "/var/folders/t1/njfw6dkd30j6q9tb_njj8vn40000gn/T/ipykernel_31785/4258930956.py:36: FutureWarning: The frame.append method is deprecated and will be removed from pandas in a future version. Use pandas.concat instead.\n",
      "  bts_songs_df=bts_songs_df.append(df)\n"
     ]
    },
    {
     "name": "stdout",
     "output_type": "stream",
     "text": [
      "Wrote lyrics_bts_album5.json.\n"
     ]
    },
    {
     "name": "stderr",
     "output_type": "stream",
     "text": [
      "/var/folders/t1/njfw6dkd30j6q9tb_njj8vn40000gn/T/ipykernel_31785/4258930956.py:34: FutureWarning: pandas.io.json.json_normalize is deprecated, use pandas.json_normalize instead.\n",
      "  df = json_normalize(d, 'tracks')\n",
      "/var/folders/t1/njfw6dkd30j6q9tb_njj8vn40000gn/T/ipykernel_31785/4258930956.py:36: FutureWarning: The frame.append method is deprecated and will be removed from pandas in a future version. Use pandas.concat instead.\n",
      "  bts_songs_df=bts_songs_df.append(df)\n"
     ]
    },
    {
     "name": "stdout",
     "output_type": "stream",
     "text": [
      "Wrote lyrics_bts_album6.json.\n"
     ]
    },
    {
     "name": "stderr",
     "output_type": "stream",
     "text": [
      "/var/folders/t1/njfw6dkd30j6q9tb_njj8vn40000gn/T/ipykernel_31785/4258930956.py:34: FutureWarning: pandas.io.json.json_normalize is deprecated, use pandas.json_normalize instead.\n",
      "  df = json_normalize(d, 'tracks')\n",
      "/var/folders/t1/njfw6dkd30j6q9tb_njj8vn40000gn/T/ipykernel_31785/4258930956.py:36: FutureWarning: The frame.append method is deprecated and will be removed from pandas in a future version. Use pandas.concat instead.\n",
      "  bts_songs_df=bts_songs_df.append(df)\n"
     ]
    },
    {
     "name": "stdout",
     "output_type": "stream",
     "text": [
      "Wrote lyrics_bts_album7.json.\n"
     ]
    },
    {
     "name": "stderr",
     "output_type": "stream",
     "text": [
      "/var/folders/t1/njfw6dkd30j6q9tb_njj8vn40000gn/T/ipykernel_31785/4258930956.py:34: FutureWarning: pandas.io.json.json_normalize is deprecated, use pandas.json_normalize instead.\n",
      "  df = json_normalize(d, 'tracks')\n",
      "/var/folders/t1/njfw6dkd30j6q9tb_njj8vn40000gn/T/ipykernel_31785/4258930956.py:36: FutureWarning: The frame.append method is deprecated and will be removed from pandas in a future version. Use pandas.concat instead.\n",
      "  bts_songs_df=bts_songs_df.append(df)\n"
     ]
    },
    {
     "name": "stdout",
     "output_type": "stream",
     "text": [
      "Wrote lyrics_bts_album8.json.\n"
     ]
    },
    {
     "name": "stderr",
     "output_type": "stream",
     "text": [
      "/var/folders/t1/njfw6dkd30j6q9tb_njj8vn40000gn/T/ipykernel_31785/4258930956.py:34: FutureWarning: pandas.io.json.json_normalize is deprecated, use pandas.json_normalize instead.\n",
      "  df = json_normalize(d, 'tracks')\n",
      "/var/folders/t1/njfw6dkd30j6q9tb_njj8vn40000gn/T/ipykernel_31785/4258930956.py:36: FutureWarning: The frame.append method is deprecated and will be removed from pandas in a future version. Use pandas.concat instead.\n",
      "  bts_songs_df=bts_songs_df.append(df)\n"
     ]
    },
    {
     "name": "stdout",
     "output_type": "stream",
     "text": [
      "Wrote lyrics_bts_album9.json.\n"
     ]
    },
    {
     "name": "stderr",
     "output_type": "stream",
     "text": [
      "/var/folders/t1/njfw6dkd30j6q9tb_njj8vn40000gn/T/ipykernel_31785/4258930956.py:34: FutureWarning: pandas.io.json.json_normalize is deprecated, use pandas.json_normalize instead.\n",
      "  df = json_normalize(d, 'tracks')\n",
      "/var/folders/t1/njfw6dkd30j6q9tb_njj8vn40000gn/T/ipykernel_31785/4258930956.py:36: FutureWarning: The frame.append method is deprecated and will be removed from pandas in a future version. Use pandas.concat instead.\n",
      "  bts_songs_df=bts_songs_df.append(df)\n"
     ]
    },
    {
     "name": "stdout",
     "output_type": "stream",
     "text": [
      "Wrote lyrics_bts_album10.json.\n"
     ]
    },
    {
     "name": "stderr",
     "output_type": "stream",
     "text": [
      "/var/folders/t1/njfw6dkd30j6q9tb_njj8vn40000gn/T/ipykernel_31785/4258930956.py:34: FutureWarning: pandas.io.json.json_normalize is deprecated, use pandas.json_normalize instead.\n",
      "  df = json_normalize(d, 'tracks')\n",
      "/var/folders/t1/njfw6dkd30j6q9tb_njj8vn40000gn/T/ipykernel_31785/4258930956.py:36: FutureWarning: The frame.append method is deprecated and will be removed from pandas in a future version. Use pandas.concat instead.\n",
      "  bts_songs_df=bts_songs_df.append(df)\n"
     ]
    },
    {
     "name": "stdout",
     "output_type": "stream",
     "text": [
      "Wrote lyrics_bts_album11.json.\n"
     ]
    },
    {
     "name": "stderr",
     "output_type": "stream",
     "text": [
      "/var/folders/t1/njfw6dkd30j6q9tb_njj8vn40000gn/T/ipykernel_31785/4258930956.py:34: FutureWarning: pandas.io.json.json_normalize is deprecated, use pandas.json_normalize instead.\n",
      "  df = json_normalize(d, 'tracks')\n",
      "/var/folders/t1/njfw6dkd30j6q9tb_njj8vn40000gn/T/ipykernel_31785/4258930956.py:36: FutureWarning: The frame.append method is deprecated and will be removed from pandas in a future version. Use pandas.concat instead.\n",
      "  bts_songs_df=bts_songs_df.append(df)\n"
     ]
    },
    {
     "name": "stdout",
     "output_type": "stream",
     "text": [
      "Wrote lyrics_bts_album12.json.\n"
     ]
    },
    {
     "name": "stderr",
     "output_type": "stream",
     "text": [
      "/var/folders/t1/njfw6dkd30j6q9tb_njj8vn40000gn/T/ipykernel_31785/4258930956.py:34: FutureWarning: pandas.io.json.json_normalize is deprecated, use pandas.json_normalize instead.\n",
      "  df = json_normalize(d, 'tracks')\n",
      "/var/folders/t1/njfw6dkd30j6q9tb_njj8vn40000gn/T/ipykernel_31785/4258930956.py:36: FutureWarning: The frame.append method is deprecated and will be removed from pandas in a future version. Use pandas.concat instead.\n",
      "  bts_songs_df=bts_songs_df.append(df)\n"
     ]
    },
    {
     "name": "stdout",
     "output_type": "stream",
     "text": [
      "Wrote lyrics_bts_album13.json.\n"
     ]
    },
    {
     "name": "stderr",
     "output_type": "stream",
     "text": [
      "/var/folders/t1/njfw6dkd30j6q9tb_njj8vn40000gn/T/ipykernel_31785/4258930956.py:34: FutureWarning: pandas.io.json.json_normalize is deprecated, use pandas.json_normalize instead.\n",
      "  df = json_normalize(d, 'tracks')\n",
      "/var/folders/t1/njfw6dkd30j6q9tb_njj8vn40000gn/T/ipykernel_31785/4258930956.py:36: FutureWarning: The frame.append method is deprecated and will be removed from pandas in a future version. Use pandas.concat instead.\n",
      "  bts_songs_df=bts_songs_df.append(df)\n"
     ]
    },
    {
     "name": "stdout",
     "output_type": "stream",
     "text": [
      "Wrote lyrics_bts_album14.json.\n"
     ]
    },
    {
     "name": "stderr",
     "output_type": "stream",
     "text": [
      "/var/folders/t1/njfw6dkd30j6q9tb_njj8vn40000gn/T/ipykernel_31785/4258930956.py:34: FutureWarning: pandas.io.json.json_normalize is deprecated, use pandas.json_normalize instead.\n",
      "  df = json_normalize(d, 'tracks')\n",
      "/var/folders/t1/njfw6dkd30j6q9tb_njj8vn40000gn/T/ipykernel_31785/4258930956.py:36: FutureWarning: The frame.append method is deprecated and will be removed from pandas in a future version. Use pandas.concat instead.\n",
      "  bts_songs_df=bts_songs_df.append(df)\n"
     ]
    },
    {
     "name": "stdout",
     "output_type": "stream",
     "text": [
      "Wrote lyrics_bts_album15.json.\n"
     ]
    },
    {
     "name": "stderr",
     "output_type": "stream",
     "text": [
      "/var/folders/t1/njfw6dkd30j6q9tb_njj8vn40000gn/T/ipykernel_31785/4258930956.py:34: FutureWarning: pandas.io.json.json_normalize is deprecated, use pandas.json_normalize instead.\n",
      "  df = json_normalize(d, 'tracks')\n",
      "/var/folders/t1/njfw6dkd30j6q9tb_njj8vn40000gn/T/ipykernel_31785/4258930956.py:36: FutureWarning: The frame.append method is deprecated and will be removed from pandas in a future version. Use pandas.concat instead.\n",
      "  bts_songs_df=bts_songs_df.append(df)\n"
     ]
    },
    {
     "name": "stdout",
     "output_type": "stream",
     "text": [
      "Wrote lyrics_bts_album16.json.\n"
     ]
    },
    {
     "name": "stderr",
     "output_type": "stream",
     "text": [
      "/var/folders/t1/njfw6dkd30j6q9tb_njj8vn40000gn/T/ipykernel_31785/4258930956.py:34: FutureWarning: pandas.io.json.json_normalize is deprecated, use pandas.json_normalize instead.\n",
      "  df = json_normalize(d, 'tracks')\n",
      "/var/folders/t1/njfw6dkd30j6q9tb_njj8vn40000gn/T/ipykernel_31785/4258930956.py:36: FutureWarning: The frame.append method is deprecated and will be removed from pandas in a future version. Use pandas.concat instead.\n",
      "  bts_songs_df=bts_songs_df.append(df)\n"
     ]
    }
   ],
   "source": [
    "#########################################\n",
    "##### Loop through all BTS Albums #######\n",
    "#########################################\n",
    "# Use above process to get all BTS English Translated song lyrics\n",
    "\n",
    "album_list=['BTS - Love Yourself 結 ‘Answer’ (English Translation)',\n",
    "           'BTS - MAP OF THE SOUL: 7 (English Translation)',\n",
    "           'BTS - Love Yourself 轉 ‘Tear’ (English Translation)',\n",
    "           'BTS - You Never Walk Alone (English Translation)',\n",
    "           'BTS - 화양연화 Young Forever (The Most Beautiful Moment In Life: Young Forever) (English Translation)',\n",
    "           'BTS - MAP OF THE SOUL: PERSONA (English Translation)',\n",
    "           'BTS - WINGS (English Translation)',\n",
    "           'BTS - BE (English Translation)',\n",
    "           'BTS - BTS, The Best (English Translation)',\n",
    "           'BTS - 화양연화 pt.2 (The Most Beautiful Moment In Life, Pt.2) (English Translation)',\n",
    "           'BTS - Skool Luv Affair (English Translation)',\n",
    "           'BTS - Dark&Wild (English Translation)',\n",
    "           'BTS - MAP OF THE SOUL: 7 ~ The Journey ~ (English Translation)',\n",
    "           'BTS - 2 Cool 4 Skool (English Translation)',\n",
    "           'BTS - Face Yourself (English Translation)',\n",
    "           'BTS - O!RUL8,2? (English Translation)',\n",
    "           'BTS - YOUTH (English Translation)']\n",
    "\n",
    "bts_songs_df=pd.DataFrame()\n",
    "counter=0\n",
    "for album in album_list:\n",
    "    album = genius.search_album(album, \"BTS\")   #search by album name and artist\n",
    "    file_name='lyrics_bts_album'+str(counter)+'.json'\n",
    "    album.save_lyrics(filename=file_name) #save album info into JSON\n",
    "    \n",
    "    with open(file_name) as data_file:    \n",
    "        d= json.load(data_file)\n",
    "    \n",
    "    df = json_normalize(d, 'tracks')\n",
    "    df['album']=d['name']\n",
    "    bts_songs_df=bts_songs_df.append(df)\n",
    "    counter+=1"
   ]
  },
  {
   "cell_type": "code",
   "execution_count": 219,
   "id": "8b420873",
   "metadata": {},
   "outputs": [
    {
     "data": {
      "text/plain": [
       "8    September 11, 2013\n",
       "9    September 11, 2013\n",
       "0     September 7, 2016\n",
       "1     September 7, 2016\n",
       "2     September 7, 2016\n",
       "Name: song.release_date_for_display, dtype: object"
      ]
     },
     "execution_count": 219,
     "metadata": {},
     "output_type": "execute_result"
    }
   ],
   "source": [
    "# Inspect dataframe\n",
    "bts_songs_df['song.release_date_for_display'].tail()"
   ]
  },
  {
   "cell_type": "code",
   "execution_count": 220,
   "id": "2017505a",
   "metadata": {},
   "outputs": [
    {
     "data": {
      "text/plain": [
       "201"
      ]
     },
     "execution_count": 220,
     "metadata": {},
     "output_type": "execute_result"
    }
   ],
   "source": [
    "len(bts_songs_df)"
   ]
  },
  {
   "cell_type": "code",
   "execution_count": 221,
   "id": "bbc21885",
   "metadata": {},
   "outputs": [],
   "source": [
    "bts_songs_df.to_pickle(\"bts_lyrics_dataset.pkl\")"
   ]
  },
  {
   "cell_type": "code",
   "execution_count": null,
   "id": "54a0b303",
   "metadata": {},
   "outputs": [],
   "source": []
  }
 ],
 "metadata": {
  "kernelspec": {
   "display_name": "Python 3 (ipykernel)",
   "language": "python",
   "name": "python3"
  },
  "language_info": {
   "codemirror_mode": {
    "name": "ipython",
    "version": 3
   },
   "file_extension": ".py",
   "mimetype": "text/x-python",
   "name": "python",
   "nbconvert_exporter": "python",
   "pygments_lexer": "ipython3",
   "version": "3.10.5"
  }
 },
 "nbformat": 4,
 "nbformat_minor": 5
}
